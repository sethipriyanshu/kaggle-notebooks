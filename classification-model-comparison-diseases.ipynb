{
 "cells": [
  {
   "cell_type": "code",
   "execution_count": 1,
   "id": "84688035",
   "metadata": {
    "_cell_guid": "b1076dfc-b9ad-4769-8c92-a6c4dae69d19",
    "_uuid": "8f2839f25d086af736a60e9eeb907d3b93b6e0e5",
    "execution": {
     "iopub.execute_input": "2023-05-25T10:02:10.385742Z",
     "iopub.status.busy": "2023-05-25T10:02:10.385367Z",
     "iopub.status.idle": "2023-05-25T10:02:10.403317Z",
     "shell.execute_reply": "2023-05-25T10:02:10.401947Z"
    },
    "papermill": {
     "duration": 0.034808,
     "end_time": "2023-05-25T10:02:10.405203",
     "exception": false,
     "start_time": "2023-05-25T10:02:10.370395",
     "status": "completed"
    },
    "tags": []
   },
   "outputs": [
    {
     "name": "stdout",
     "output_type": "stream",
     "text": [
      "/kaggle/input/disease-symptoms-and-patient-profile-dataset/Disease_symptom_and_patient_profile_dataset.csv\n"
     ]
    }
   ],
   "source": [
    "# This Python 3 environment comes with many helpful analytics libraries installed\n",
    "# It is defined by the kaggle/python Docker image: https://github.com/kaggle/docker-python\n",
    "# For example, here's several helpful packages to load\n",
    "\n",
    "import numpy as np # linear algebra\n",
    "import pandas as pd # data processing, CSV file I/O (e.g. pd.read_csv)\n",
    "\n",
    "# Input data files are available in the read-only \"../input/\" directory\n",
    "# For example, running this (by clicking run or pressing Shift+Enter) will list all files under the input directory\n",
    "\n",
    "import os\n",
    "for dirname, _, filenames in os.walk('/kaggle/input'):\n",
    "    for filename in filenames:\n",
    "        print(os.path.join(dirname, filename))\n",
    "\n",
    "# You can write up to 20GB to the current directory (/kaggle/working/) that gets preserved as output when you create a version using \"Save & Run All\" \n",
    "# You can also write temporary files to /kaggle/temp/, but they won't be saved outside of the current session"
   ]
  },
  {
   "cell_type": "markdown",
   "id": "1e79c58e",
   "metadata": {
    "papermill": {
     "duration": 0.011814,
     "end_time": "2023-05-25T10:02:10.429432",
     "exception": false,
     "start_time": "2023-05-25T10:02:10.417618",
     "status": "completed"
    },
    "tags": []
   },
   "source": [
    "# Importing Libraries and Loading Data"
   ]
  },
  {
   "cell_type": "code",
   "execution_count": 2,
   "id": "e3612ac1",
   "metadata": {
    "execution": {
     "iopub.execute_input": "2023-05-25T10:02:10.455354Z",
     "iopub.status.busy": "2023-05-25T10:02:10.454979Z",
     "iopub.status.idle": "2023-05-25T10:02:11.823136Z",
     "shell.execute_reply": "2023-05-25T10:02:11.821982Z"
    },
    "papermill": {
     "duration": 1.383839,
     "end_time": "2023-05-25T10:02:11.825470",
     "exception": false,
     "start_time": "2023-05-25T10:02:10.441631",
     "status": "completed"
    },
    "tags": []
   },
   "outputs": [],
   "source": [
    "import pandas as pd\n",
    "import numpy as np\n",
    "import seaborn as sns\n",
    "import matplotlib.pyplot as plt"
   ]
  },
  {
   "cell_type": "code",
   "execution_count": 3,
   "id": "319c7f00",
   "metadata": {
    "execution": {
     "iopub.execute_input": "2023-05-25T10:02:11.854090Z",
     "iopub.status.busy": "2023-05-25T10:02:11.853743Z",
     "iopub.status.idle": "2023-05-25T10:02:11.879133Z",
     "shell.execute_reply": "2023-05-25T10:02:11.877643Z"
    },
    "papermill": {
     "duration": 0.041881,
     "end_time": "2023-05-25T10:02:11.881371",
     "exception": false,
     "start_time": "2023-05-25T10:02:11.839490",
     "status": "completed"
    },
    "tags": []
   },
   "outputs": [],
   "source": [
    "df = pd.read_csv(\"/kaggle/input/disease-symptoms-and-patient-profile-dataset/Disease_symptom_and_patient_profile_dataset.csv\")"
   ]
  },
  {
   "cell_type": "markdown",
   "id": "aa7d6cf5",
   "metadata": {
    "papermill": {
     "duration": 0.012248,
     "end_time": "2023-05-25T10:02:11.906387",
     "exception": false,
     "start_time": "2023-05-25T10:02:11.894139",
     "status": "completed"
    },
    "tags": []
   },
   "source": [
    "# Numerical Analysis"
   ]
  },
  {
   "cell_type": "code",
   "execution_count": 4,
   "id": "fdcb031d",
   "metadata": {
    "execution": {
     "iopub.execute_input": "2023-05-25T10:02:11.932570Z",
     "iopub.status.busy": "2023-05-25T10:02:11.932219Z",
     "iopub.status.idle": "2023-05-25T10:02:11.966791Z",
     "shell.execute_reply": "2023-05-25T10:02:11.965614Z"
    },
    "papermill": {
     "duration": 0.050155,
     "end_time": "2023-05-25T10:02:11.968880",
     "exception": false,
     "start_time": "2023-05-25T10:02:11.918725",
     "status": "completed"
    },
    "tags": []
   },
   "outputs": [
    {
     "data": {
      "text/html": [
       "<div>\n",
       "<style scoped>\n",
       "    .dataframe tbody tr th:only-of-type {\n",
       "        vertical-align: middle;\n",
       "    }\n",
       "\n",
       "    .dataframe tbody tr th {\n",
       "        vertical-align: top;\n",
       "    }\n",
       "\n",
       "    .dataframe thead th {\n",
       "        text-align: right;\n",
       "    }\n",
       "</style>\n",
       "<table border=\"1\" class=\"dataframe\">\n",
       "  <thead>\n",
       "    <tr style=\"text-align: right;\">\n",
       "      <th></th>\n",
       "      <th>Disease</th>\n",
       "      <th>Fever</th>\n",
       "      <th>Cough</th>\n",
       "      <th>Fatigue</th>\n",
       "      <th>Difficulty Breathing</th>\n",
       "      <th>Age</th>\n",
       "      <th>Gender</th>\n",
       "      <th>Blood Pressure</th>\n",
       "      <th>Cholesterol Level</th>\n",
       "      <th>Outcome Variable</th>\n",
       "    </tr>\n",
       "  </thead>\n",
       "  <tbody>\n",
       "    <tr>\n",
       "      <th>148</th>\n",
       "      <td>Liver Cancer</td>\n",
       "      <td>Yes</td>\n",
       "      <td>No</td>\n",
       "      <td>Yes</td>\n",
       "      <td>Yes</td>\n",
       "      <td>42</td>\n",
       "      <td>Male</td>\n",
       "      <td>Normal</td>\n",
       "      <td>Low</td>\n",
       "      <td>Negative</td>\n",
       "    </tr>\n",
       "    <tr>\n",
       "      <th>276</th>\n",
       "      <td>Coronary Artery Disease</td>\n",
       "      <td>Yes</td>\n",
       "      <td>Yes</td>\n",
       "      <td>No</td>\n",
       "      <td>No</td>\n",
       "      <td>60</td>\n",
       "      <td>Male</td>\n",
       "      <td>High</td>\n",
       "      <td>High</td>\n",
       "      <td>Negative</td>\n",
       "    </tr>\n",
       "    <tr>\n",
       "      <th>145</th>\n",
       "      <td>Depression</td>\n",
       "      <td>Yes</td>\n",
       "      <td>No</td>\n",
       "      <td>No</td>\n",
       "      <td>Yes</td>\n",
       "      <td>42</td>\n",
       "      <td>Male</td>\n",
       "      <td>High</td>\n",
       "      <td>Normal</td>\n",
       "      <td>Negative</td>\n",
       "    </tr>\n",
       "    <tr>\n",
       "      <th>93</th>\n",
       "      <td>Spina Bifida</td>\n",
       "      <td>No</td>\n",
       "      <td>No</td>\n",
       "      <td>Yes</td>\n",
       "      <td>No</td>\n",
       "      <td>35</td>\n",
       "      <td>Female</td>\n",
       "      <td>Normal</td>\n",
       "      <td>Normal</td>\n",
       "      <td>Positive</td>\n",
       "    </tr>\n",
       "    <tr>\n",
       "      <th>264</th>\n",
       "      <td>Osteoporosis</td>\n",
       "      <td>Yes</td>\n",
       "      <td>No</td>\n",
       "      <td>Yes</td>\n",
       "      <td>Yes</td>\n",
       "      <td>55</td>\n",
       "      <td>Male</td>\n",
       "      <td>High</td>\n",
       "      <td>Low</td>\n",
       "      <td>Positive</td>\n",
       "    </tr>\n",
       "  </tbody>\n",
       "</table>\n",
       "</div>"
      ],
      "text/plain": [
       "                     Disease Fever Cough Fatigue Difficulty Breathing  Age  \\\n",
       "148             Liver Cancer   Yes    No     Yes                  Yes   42   \n",
       "276  Coronary Artery Disease   Yes   Yes      No                   No   60   \n",
       "145               Depression   Yes    No      No                  Yes   42   \n",
       "93              Spina Bifida    No    No     Yes                   No   35   \n",
       "264             Osteoporosis   Yes    No     Yes                  Yes   55   \n",
       "\n",
       "     Gender Blood Pressure Cholesterol Level Outcome Variable  \n",
       "148    Male         Normal               Low         Negative  \n",
       "276    Male           High              High         Negative  \n",
       "145    Male           High            Normal         Negative  \n",
       "93   Female         Normal            Normal         Positive  \n",
       "264    Male           High               Low         Positive  "
      ]
     },
     "execution_count": 4,
     "metadata": {},
     "output_type": "execute_result"
    }
   ],
   "source": [
    "# How does our data look like ?\n",
    "df.sample(5)"
   ]
  },
  {
   "cell_type": "code",
   "execution_count": 5,
   "id": "32789d13",
   "metadata": {
    "execution": {
     "iopub.execute_input": "2023-05-25T10:02:11.995410Z",
     "iopub.status.busy": "2023-05-25T10:02:11.995028Z",
     "iopub.status.idle": "2023-05-25T10:02:12.015321Z",
     "shell.execute_reply": "2023-05-25T10:02:12.014673Z"
    },
    "papermill": {
     "duration": 0.035456,
     "end_time": "2023-05-25T10:02:12.016969",
     "exception": false,
     "start_time": "2023-05-25T10:02:11.981513",
     "status": "completed"
    },
    "tags": []
   },
   "outputs": [
    {
     "name": "stdout",
     "output_type": "stream",
     "text": [
      "<class 'pandas.core.frame.DataFrame'>\n",
      "RangeIndex: 349 entries, 0 to 348\n",
      "Data columns (total 10 columns):\n",
      " #   Column                Non-Null Count  Dtype \n",
      "---  ------                --------------  ----- \n",
      " 0   Disease               349 non-null    object\n",
      " 1   Fever                 349 non-null    object\n",
      " 2   Cough                 349 non-null    object\n",
      " 3   Fatigue               349 non-null    object\n",
      " 4   Difficulty Breathing  349 non-null    object\n",
      " 5   Age                   349 non-null    int64 \n",
      " 6   Gender                349 non-null    object\n",
      " 7   Blood Pressure        349 non-null    object\n",
      " 8   Cholesterol Level     349 non-null    object\n",
      " 9   Outcome Variable      349 non-null    object\n",
      "dtypes: int64(1), object(9)\n",
      "memory usage: 27.4+ KB\n"
     ]
    }
   ],
   "source": [
    "# Checking Data Types of columns\n",
    "df.info()"
   ]
  },
  {
   "cell_type": "code",
   "execution_count": 6,
   "id": "55ac4eae",
   "metadata": {
    "execution": {
     "iopub.execute_input": "2023-05-25T10:02:12.043696Z",
     "iopub.status.busy": "2023-05-25T10:02:12.043352Z",
     "iopub.status.idle": "2023-05-25T10:02:12.051375Z",
     "shell.execute_reply": "2023-05-25T10:02:12.050582Z"
    },
    "papermill": {
     "duration": 0.02364,
     "end_time": "2023-05-25T10:02:12.053338",
     "exception": false,
     "start_time": "2023-05-25T10:02:12.029698",
     "status": "completed"
    },
    "tags": []
   },
   "outputs": [
    {
     "data": {
      "text/plain": [
       "Disease                 0\n",
       "Fever                   0\n",
       "Cough                   0\n",
       "Fatigue                 0\n",
       "Difficulty Breathing    0\n",
       "Age                     0\n",
       "Gender                  0\n",
       "Blood Pressure          0\n",
       "Cholesterol Level       0\n",
       "Outcome Variable        0\n",
       "dtype: int64"
      ]
     },
     "execution_count": 6,
     "metadata": {},
     "output_type": "execute_result"
    }
   ],
   "source": [
    "#checking for null values\n",
    "df.isnull().sum()"
   ]
  },
  {
   "cell_type": "code",
   "execution_count": 7,
   "id": "404d9bca",
   "metadata": {
    "execution": {
     "iopub.execute_input": "2023-05-25T10:02:12.082350Z",
     "iopub.status.busy": "2023-05-25T10:02:12.081907Z",
     "iopub.status.idle": "2023-05-25T10:02:12.088503Z",
     "shell.execute_reply": "2023-05-25T10:02:12.087291Z"
    },
    "papermill": {
     "duration": 0.023325,
     "end_time": "2023-05-25T10:02:12.090545",
     "exception": false,
     "start_time": "2023-05-25T10:02:12.067220",
     "status": "completed"
    },
    "tags": []
   },
   "outputs": [
    {
     "data": {
      "text/plain": [
       "(349, 10)"
      ]
     },
     "execution_count": 7,
     "metadata": {},
     "output_type": "execute_result"
    }
   ],
   "source": [
    "# What is the size of dataset\n",
    "df.shape"
   ]
  },
  {
   "cell_type": "code",
   "execution_count": 8,
   "id": "42aff788",
   "metadata": {
    "execution": {
     "iopub.execute_input": "2023-05-25T10:02:12.118150Z",
     "iopub.status.busy": "2023-05-25T10:02:12.117794Z",
     "iopub.status.idle": "2023-05-25T10:02:12.130856Z",
     "shell.execute_reply": "2023-05-25T10:02:12.129915Z"
    },
    "papermill": {
     "duration": 0.028986,
     "end_time": "2023-05-25T10:02:12.132516",
     "exception": false,
     "start_time": "2023-05-25T10:02:12.103530",
     "status": "completed"
    },
    "tags": []
   },
   "outputs": [
    {
     "data": {
      "text/html": [
       "<div>\n",
       "<style scoped>\n",
       "    .dataframe tbody tr th:only-of-type {\n",
       "        vertical-align: middle;\n",
       "    }\n",
       "\n",
       "    .dataframe tbody tr th {\n",
       "        vertical-align: top;\n",
       "    }\n",
       "\n",
       "    .dataframe thead th {\n",
       "        text-align: right;\n",
       "    }\n",
       "</style>\n",
       "<table border=\"1\" class=\"dataframe\">\n",
       "  <thead>\n",
       "    <tr style=\"text-align: right;\">\n",
       "      <th></th>\n",
       "      <th>Disease</th>\n",
       "      <th>Fever</th>\n",
       "      <th>Cough</th>\n",
       "      <th>Fatigue</th>\n",
       "      <th>Difficulty Breathing</th>\n",
       "      <th>Age</th>\n",
       "      <th>Gender</th>\n",
       "      <th>Blood Pressure</th>\n",
       "      <th>Cholesterol Level</th>\n",
       "      <th>Outcome Variable</th>\n",
       "    </tr>\n",
       "  </thead>\n",
       "  <tbody>\n",
       "    <tr>\n",
       "      <th>0</th>\n",
       "      <td>Influenza</td>\n",
       "      <td>Yes</td>\n",
       "      <td>No</td>\n",
       "      <td>Yes</td>\n",
       "      <td>Yes</td>\n",
       "      <td>19</td>\n",
       "      <td>Female</td>\n",
       "      <td>Low</td>\n",
       "      <td>Normal</td>\n",
       "      <td>Positive</td>\n",
       "    </tr>\n",
       "    <tr>\n",
       "      <th>1</th>\n",
       "      <td>Common Cold</td>\n",
       "      <td>No</td>\n",
       "      <td>Yes</td>\n",
       "      <td>Yes</td>\n",
       "      <td>No</td>\n",
       "      <td>25</td>\n",
       "      <td>Female</td>\n",
       "      <td>Normal</td>\n",
       "      <td>Normal</td>\n",
       "      <td>Negative</td>\n",
       "    </tr>\n",
       "    <tr>\n",
       "      <th>2</th>\n",
       "      <td>Eczema</td>\n",
       "      <td>No</td>\n",
       "      <td>Yes</td>\n",
       "      <td>Yes</td>\n",
       "      <td>No</td>\n",
       "      <td>25</td>\n",
       "      <td>Female</td>\n",
       "      <td>Normal</td>\n",
       "      <td>Normal</td>\n",
       "      <td>Negative</td>\n",
       "    </tr>\n",
       "    <tr>\n",
       "      <th>3</th>\n",
       "      <td>Asthma</td>\n",
       "      <td>Yes</td>\n",
       "      <td>Yes</td>\n",
       "      <td>No</td>\n",
       "      <td>Yes</td>\n",
       "      <td>25</td>\n",
       "      <td>Male</td>\n",
       "      <td>Normal</td>\n",
       "      <td>Normal</td>\n",
       "      <td>Positive</td>\n",
       "    </tr>\n",
       "    <tr>\n",
       "      <th>4</th>\n",
       "      <td>Asthma</td>\n",
       "      <td>Yes</td>\n",
       "      <td>Yes</td>\n",
       "      <td>No</td>\n",
       "      <td>Yes</td>\n",
       "      <td>25</td>\n",
       "      <td>Male</td>\n",
       "      <td>Normal</td>\n",
       "      <td>Normal</td>\n",
       "      <td>Positive</td>\n",
       "    </tr>\n",
       "  </tbody>\n",
       "</table>\n",
       "</div>"
      ],
      "text/plain": [
       "       Disease Fever Cough Fatigue Difficulty Breathing  Age  Gender  \\\n",
       "0    Influenza   Yes    No     Yes                  Yes   19  Female   \n",
       "1  Common Cold    No   Yes     Yes                   No   25  Female   \n",
       "2       Eczema    No   Yes     Yes                   No   25  Female   \n",
       "3       Asthma   Yes   Yes      No                  Yes   25    Male   \n",
       "4       Asthma   Yes   Yes      No                  Yes   25    Male   \n",
       "\n",
       "  Blood Pressure Cholesterol Level Outcome Variable  \n",
       "0            Low            Normal         Positive  \n",
       "1         Normal            Normal         Negative  \n",
       "2         Normal            Normal         Negative  \n",
       "3         Normal            Normal         Positive  \n",
       "4         Normal            Normal         Positive  "
      ]
     },
     "execution_count": 8,
     "metadata": {},
     "output_type": "execute_result"
    }
   ],
   "source": [
    "df.head()"
   ]
  },
  {
   "cell_type": "code",
   "execution_count": 9,
   "id": "07017e05",
   "metadata": {
    "execution": {
     "iopub.execute_input": "2023-05-25T10:02:12.160634Z",
     "iopub.status.busy": "2023-05-25T10:02:12.159543Z",
     "iopub.status.idle": "2023-05-25T10:02:12.169627Z",
     "shell.execute_reply": "2023-05-25T10:02:12.168811Z"
    },
    "papermill": {
     "duration": 0.025981,
     "end_time": "2023-05-25T10:02:12.171468",
     "exception": false,
     "start_time": "2023-05-25T10:02:12.145487",
     "status": "completed"
    },
    "tags": []
   },
   "outputs": [
    {
     "data": {
      "text/plain": [
       "Disease                 116\n",
       "Fever                     2\n",
       "Cough                     2\n",
       "Fatigue                   2\n",
       "Difficulty Breathing      2\n",
       "Age                      26\n",
       "Gender                    2\n",
       "Blood Pressure            3\n",
       "Cholesterol Level         3\n",
       "Outcome Variable          2\n",
       "dtype: int64"
      ]
     },
     "execution_count": 9,
     "metadata": {},
     "output_type": "execute_result"
    }
   ],
   "source": [
    "#let's check for number of unique values\n",
    "df.nunique()"
   ]
  },
  {
   "cell_type": "code",
   "execution_count": 10,
   "id": "5f122cad",
   "metadata": {
    "execution": {
     "iopub.execute_input": "2023-05-25T10:02:12.201051Z",
     "iopub.status.busy": "2023-05-25T10:02:12.200078Z",
     "iopub.status.idle": "2023-05-25T10:02:13.158864Z",
     "shell.execute_reply": "2023-05-25T10:02:13.157775Z"
    },
    "papermill": {
     "duration": 0.976077,
     "end_time": "2023-05-25T10:02:13.160812",
     "exception": false,
     "start_time": "2023-05-25T10:02:12.184735",
     "status": "completed"
    },
    "tags": []
   },
   "outputs": [
    {
     "data": {
      "text/plain": [
       "<seaborn.axisgrid.FacetGrid at 0x7958f7143b50>"
      ]
     },
     "execution_count": 10,
     "metadata": {},
     "output_type": "execute_result"
    },
    {
     "data": {
      "image/png": "[encoded data removed]",
      "text/plain": [
       "<Figure size 500x500 with 1 Axes>"
      ]
     },
     "metadata": {},
     "output_type": "display_data"
    }
   ],
   "source": [
    "sns.catplot(x = 'Outcome Variable' , y = 'Age' , data = df , kind = \"swarm\")    "
   ]
  },
  {
   "cell_type": "markdown",
   "id": "7edda650",
   "metadata": {
    "papermill": {
     "duration": 0.013096,
     "end_time": "2023-05-25T10:02:13.187506",
     "exception": false,
     "start_time": "2023-05-25T10:02:13.174410",
     "status": "completed"
    },
    "tags": []
   },
   "source": [
    "### People in old ages have a higher probability of being tested positive for diseases which is an outlier for our dataset"
   ]
  },
  {
   "cell_type": "code",
   "execution_count": 11,
   "id": "6391e655",
   "metadata": {
    "execution": {
     "iopub.execute_input": "2023-05-25T10:02:13.215999Z",
     "iopub.status.busy": "2023-05-25T10:02:13.215415Z",
     "iopub.status.idle": "2023-05-25T10:02:13.539940Z",
     "shell.execute_reply": "2023-05-25T10:02:13.538887Z"
    },
    "papermill": {
     "duration": 0.341047,
     "end_time": "2023-05-25T10:02:13.541762",
     "exception": false,
     "start_time": "2023-05-25T10:02:13.200715",
     "status": "completed"
    },
    "tags": []
   },
   "outputs": [
    {
     "data": {
      "text/plain": [
       "<seaborn.axisgrid.FacetGrid at 0x7958f757e020>"
      ]
     },
     "execution_count": 11,
     "metadata": {},
     "output_type": "execute_result"
    },
    {
     "data": {
      "image/png": "[encoded data removed]",
      "text/plain": [
       "<Figure size 500x500 with 1 Axes>"
      ]
     },
     "metadata": {},
     "output_type": "display_data"
    }
   ],
   "source": [
    "sns.displot(df['Age'] , kde=True)"
   ]
  },
  {
   "cell_type": "markdown",
   "id": "4fb2fd99",
   "metadata": {
    "papermill": {
     "duration": 0.013878,
     "end_time": "2023-05-25T10:02:13.569875",
     "exception": false,
     "start_time": "2023-05-25T10:02:13.555997",
     "status": "completed"
    },
    "tags": []
   },
   "source": [
    "### There is no major skewness in the dataset with a few outliers"
   ]
  },
  {
   "cell_type": "code",
   "execution_count": 12,
   "id": "a8977daa",
   "metadata": {
    "execution": {
     "iopub.execute_input": "2023-05-25T10:02:13.600480Z",
     "iopub.status.busy": "2023-05-25T10:02:13.599591Z",
     "iopub.status.idle": "2023-05-25T10:02:13.742339Z",
     "shell.execute_reply": "2023-05-25T10:02:13.741185Z"
    },
    "papermill": {
     "duration": 0.160227,
     "end_time": "2023-05-25T10:02:13.744300",
     "exception": false,
     "start_time": "2023-05-25T10:02:13.584073",
     "status": "completed"
    },
    "tags": []
   },
   "outputs": [
    {
     "data": {
      "text/plain": [
       "<Axes: >"
      ]
     },
     "execution_count": 12,
     "metadata": {},
     "output_type": "execute_result"
    },
    {
     "data": {
      "image/png": "[encoded data removed]",
      "text/plain": [
       "<Figure size 640x480 with 1 Axes>"
      ]
     },
     "metadata": {},
     "output_type": "display_data"
    }
   ],
   "source": [
    "df.groupby('Gender').size().plot(kind='pie', autopct='%.2f')"
   ]
  },
  {
   "cell_type": "markdown",
   "id": "5ee95b01",
   "metadata": {
    "papermill": {
     "duration": 0.01365,
     "end_time": "2023-05-25T10:02:13.772300",
     "exception": false,
     "start_time": "2023-05-25T10:02:13.758650",
     "status": "completed"
    },
    "tags": []
   },
   "source": [
    "### The dataset is quite evenly distributed based on gender"
   ]
  },
  {
   "cell_type": "code",
   "execution_count": 13,
   "id": "8cd93b76",
   "metadata": {
    "execution": {
     "iopub.execute_input": "2023-05-25T10:02:13.802676Z",
     "iopub.status.busy": "2023-05-25T10:02:13.802080Z",
     "iopub.status.idle": "2023-05-25T10:02:14.058408Z",
     "shell.execute_reply": "2023-05-25T10:02:14.056846Z"
    },
    "papermill": {
     "duration": 0.274651,
     "end_time": "2023-05-25T10:02:14.061223",
     "exception": false,
     "start_time": "2023-05-25T10:02:13.786572",
     "status": "completed"
    },
    "tags": []
   },
   "outputs": [
    {
     "data": {
      "text/plain": [
       "<seaborn.axisgrid.FacetGrid at 0x7958f2f4b280>"
      ]
     },
     "execution_count": 13,
     "metadata": {},
     "output_type": "execute_result"
    },
    {
     "data": {
      "image/png": "[encoded data removed]",
      "text/plain": [
       "<Figure size 635.236x500 with 1 Axes>"
      ]
     },
     "metadata": {},
     "output_type": "display_data"
    }
   ],
   "source": [
    "sns.catplot(x='Fever' , kind='count',data=df , hue = \"Outcome Variable\")"
   ]
  },
  {
   "cell_type": "markdown",
   "id": "48458e01",
   "metadata": {
    "papermill": {
     "duration": 0.014607,
     "end_time": "2023-05-25T10:02:14.091219",
     "exception": false,
     "start_time": "2023-05-25T10:02:14.076612",
     "status": "completed"
    },
    "tags": []
   },
   "source": [
    "### Having Fever is a major indication of a positive diagnosis"
   ]
  },
  {
   "cell_type": "code",
   "execution_count": 14,
   "id": "5cca44e3",
   "metadata": {
    "execution": {
     "iopub.execute_input": "2023-05-25T10:02:14.121811Z",
     "iopub.status.busy": "2023-05-25T10:02:14.121522Z",
     "iopub.status.idle": "2023-05-25T10:02:14.380624Z",
     "shell.execute_reply": "2023-05-25T10:02:14.379769Z"
    },
    "papermill": {
     "duration": 0.276666,
     "end_time": "2023-05-25T10:02:14.382469",
     "exception": false,
     "start_time": "2023-05-25T10:02:14.105803",
     "status": "completed"
    },
    "tags": []
   },
   "outputs": [
    {
     "data": {
      "text/plain": [
       "<seaborn.axisgrid.FacetGrid at 0x7958f2f3b340>"
      ]
     },
     "execution_count": 14,
     "metadata": {},
     "output_type": "execute_result"
    },
    {
     "data": {
      "image/png": "[encoded data removed]",
      "text/plain": [
       "<Figure size 635.236x500 with 1 Axes>"
      ]
     },
     "metadata": {},
     "output_type": "display_data"
    }
   ],
   "source": [
    "sns.catplot(x='Cough' , kind='count',data=df , hue = \"Outcome Variable\")"
   ]
  },
  {
   "cell_type": "markdown",
   "id": "91ff1f5b",
   "metadata": {
    "papermill": {
     "duration": 0.014737,
     "end_time": "2023-05-25T10:02:14.412289",
     "exception": false,
     "start_time": "2023-05-25T10:02:14.397552",
     "status": "completed"
    },
    "tags": []
   },
   "source": [
    "### Nothing major can be inferred from cough as it is quite common"
   ]
  },
  {
   "cell_type": "code",
   "execution_count": 15,
   "id": "5ce1914d",
   "metadata": {
    "execution": {
     "iopub.execute_input": "2023-05-25T10:02:14.444336Z",
     "iopub.status.busy": "2023-05-25T10:02:14.444005Z",
     "iopub.status.idle": "2023-05-25T10:02:14.714501Z",
     "shell.execute_reply": "2023-05-25T10:02:14.713678Z"
    },
    "papermill": {
     "duration": 0.288845,
     "end_time": "2023-05-25T10:02:14.716256",
     "exception": false,
     "start_time": "2023-05-25T10:02:14.427411",
     "status": "completed"
    },
    "tags": []
   },
   "outputs": [
    {
     "data": {
      "text/plain": [
       "<seaborn.axisgrid.FacetGrid at 0x7958f71437c0>"
      ]
     },
     "execution_count": 15,
     "metadata": {},
     "output_type": "execute_result"
    },
    {
     "data": {
      "image/png": "[encoded data removed]",
      "text/plain": [
       "<Figure size 635.236x500 with 1 Axes>"
      ]
     },
     "metadata": {},
     "output_type": "display_data"
    }
   ],
   "source": [
    "sns.catplot(x='Fatigue' , kind='count',data=df , hue = \"Outcome Variable\")"
   ]
  },
  {
   "cell_type": "markdown",
   "id": "a043c4cd",
   "metadata": {
    "papermill": {
     "duration": 0.015643,
     "end_time": "2023-05-25T10:02:14.747583",
     "exception": false,
     "start_time": "2023-05-25T10:02:14.731940",
     "status": "completed"
    },
    "tags": []
   },
   "source": [
    "### A lot of people irrespective of positive or negative experience a lot of fatique"
   ]
  },
  {
   "cell_type": "code",
   "execution_count": 16,
   "id": "514d28c7",
   "metadata": {
    "execution": {
     "iopub.execute_input": "2023-05-25T10:02:14.781021Z",
     "iopub.status.busy": "2023-05-25T10:02:14.780671Z",
     "iopub.status.idle": "2023-05-25T10:02:14.880081Z",
     "shell.execute_reply": "2023-05-25T10:02:14.878983Z"
    },
    "papermill": {
     "duration": 0.117949,
     "end_time": "2023-05-25T10:02:14.882167",
     "exception": false,
     "start_time": "2023-05-25T10:02:14.764218",
     "status": "completed"
    },
    "tags": []
   },
   "outputs": [
    {
     "data": {
      "text/plain": [
       "<Axes: >"
      ]
     },
     "execution_count": 16,
     "metadata": {},
     "output_type": "execute_result"
    },
    {
     "data": {
      "image/png": "[encoded data removed]",
      "text/plain": [
       "<Figure size 640x480 with 1 Axes>"
      ]
     },
     "metadata": {},
     "output_type": "display_data"
    }
   ],
   "source": [
    "df.groupby('Blood Pressure').size().plot(kind='pie', autopct='%.2f')"
   ]
  },
  {
   "cell_type": "markdown",
   "id": "cf9aa68a",
   "metadata": {
    "papermill": {
     "duration": 0.020538,
     "end_time": "2023-05-25T10:02:14.923351",
     "exception": false,
     "start_time": "2023-05-25T10:02:14.902813",
     "status": "completed"
    },
    "tags": []
   },
   "source": [
    "### Majority of the subjects have a normal or high blood pressure"
   ]
  },
  {
   "cell_type": "code",
   "execution_count": 17,
   "id": "19631156",
   "metadata": {
    "execution": {
     "iopub.execute_input": "2023-05-25T10:02:14.966625Z",
     "iopub.status.busy": "2023-05-25T10:02:14.965934Z",
     "iopub.status.idle": "2023-05-25T10:02:15.058388Z",
     "shell.execute_reply": "2023-05-25T10:02:15.057665Z"
    },
    "papermill": {
     "duration": 0.116933,
     "end_time": "2023-05-25T10:02:15.060974",
     "exception": false,
     "start_time": "2023-05-25T10:02:14.944041",
     "status": "completed"
    },
    "tags": []
   },
   "outputs": [
    {
     "data": {
      "text/plain": [
       "<Axes: >"
      ]
     },
     "execution_count": 17,
     "metadata": {},
     "output_type": "execute_result"
    },
    {
     "data": {
      "image/png": "[encoded data removed]",
      "text/plain": [
       "<Figure size 640x480 with 1 Axes>"
      ]
     },
     "metadata": {},
     "output_type": "display_data"
    }
   ],
   "source": [
    "df.groupby('Cholesterol Level').size().plot(kind='pie', autopct='%.2f')"
   ]
  },
  {
   "cell_type": "markdown",
   "id": "2fcf9b1d",
   "metadata": {
    "papermill": {
     "duration": 0.020364,
     "end_time": "2023-05-25T10:02:15.104221",
     "exception": false,
     "start_time": "2023-05-25T10:02:15.083857",
     "status": "completed"
    },
    "tags": []
   },
   "source": [
    "### Majority of the people have high cholestrol and low cholestrol is quite rare"
   ]
  },
  {
   "cell_type": "markdown",
   "id": "f6638dc6",
   "metadata": {
    "papermill": {
     "duration": 0.021935,
     "end_time": "2023-05-25T10:02:15.146845",
     "exception": false,
     "start_time": "2023-05-25T10:02:15.124910",
     "status": "completed"
    },
    "tags": []
   },
   "source": [
    "# Classification Model\n",
    "\n",
    "Let's assume the name of disease irrelevant for this case study to see if general disease diagnosis along with classification algorithms can help to detect diseases\n"
   ]
  },
  {
   "cell_type": "code",
   "execution_count": 18,
   "id": "daf2544d",
   "metadata": {
    "execution": {
     "iopub.execute_input": "2023-05-25T10:02:15.181101Z",
     "iopub.status.busy": "2023-05-25T10:02:15.180725Z",
     "iopub.status.idle": "2023-05-25T10:02:15.184872Z",
     "shell.execute_reply": "2023-05-25T10:02:15.184338Z"
    },
    "papermill": {
     "duration": 0.023382,
     "end_time": "2023-05-25T10:02:15.186410",
     "exception": false,
     "start_time": "2023-05-25T10:02:15.163028",
     "status": "completed"
    },
    "tags": []
   },
   "outputs": [],
   "source": [
    "#dropping name column\n",
    "df = df.iloc[:,1:]"
   ]
  },
  {
   "cell_type": "code",
   "execution_count": 19,
   "id": "41b6c5d0",
   "metadata": {
    "execution": {
     "iopub.execute_input": "2023-05-25T10:02:15.220682Z",
     "iopub.status.busy": "2023-05-25T10:02:15.220065Z",
     "iopub.status.idle": "2023-05-25T10:02:15.231735Z",
     "shell.execute_reply": "2023-05-25T10:02:15.230644Z"
    },
    "papermill": {
     "duration": 0.030856,
     "end_time": "2023-05-25T10:02:15.233646",
     "exception": false,
     "start_time": "2023-05-25T10:02:15.202790",
     "status": "completed"
    },
    "tags": []
   },
   "outputs": [
    {
     "data": {
      "text/html": [
       "<div>\n",
       "<style scoped>\n",
       "    .dataframe tbody tr th:only-of-type {\n",
       "        vertical-align: middle;\n",
       "    }\n",
       "\n",
       "    .dataframe tbody tr th {\n",
       "        vertical-align: top;\n",
       "    }\n",
       "\n",
       "    .dataframe thead th {\n",
       "        text-align: right;\n",
       "    }\n",
       "</style>\n",
       "<table border=\"1\" class=\"dataframe\">\n",
       "  <thead>\n",
       "    <tr style=\"text-align: right;\">\n",
       "      <th></th>\n",
       "      <th>Fever</th>\n",
       "      <th>Cough</th>\n",
       "      <th>Fatigue</th>\n",
       "      <th>Difficulty Breathing</th>\n",
       "      <th>Age</th>\n",
       "      <th>Gender</th>\n",
       "      <th>Blood Pressure</th>\n",
       "      <th>Cholesterol Level</th>\n",
       "      <th>Outcome Variable</th>\n",
       "    </tr>\n",
       "  </thead>\n",
       "  <tbody>\n",
       "    <tr>\n",
       "      <th>344</th>\n",
       "      <td>Yes</td>\n",
       "      <td>No</td>\n",
       "      <td>Yes</td>\n",
       "      <td>No</td>\n",
       "      <td>80</td>\n",
       "      <td>Female</td>\n",
       "      <td>High</td>\n",
       "      <td>High</td>\n",
       "      <td>Positive</td>\n",
       "    </tr>\n",
       "    <tr>\n",
       "      <th>345</th>\n",
       "      <td>Yes</td>\n",
       "      <td>No</td>\n",
       "      <td>Yes</td>\n",
       "      <td>No</td>\n",
       "      <td>85</td>\n",
       "      <td>Male</td>\n",
       "      <td>High</td>\n",
       "      <td>High</td>\n",
       "      <td>Positive</td>\n",
       "    </tr>\n",
       "    <tr>\n",
       "      <th>346</th>\n",
       "      <td>Yes</td>\n",
       "      <td>No</td>\n",
       "      <td>Yes</td>\n",
       "      <td>No</td>\n",
       "      <td>85</td>\n",
       "      <td>Male</td>\n",
       "      <td>High</td>\n",
       "      <td>High</td>\n",
       "      <td>Positive</td>\n",
       "    </tr>\n",
       "    <tr>\n",
       "      <th>347</th>\n",
       "      <td>Yes</td>\n",
       "      <td>No</td>\n",
       "      <td>Yes</td>\n",
       "      <td>No</td>\n",
       "      <td>90</td>\n",
       "      <td>Female</td>\n",
       "      <td>High</td>\n",
       "      <td>High</td>\n",
       "      <td>Positive</td>\n",
       "    </tr>\n",
       "    <tr>\n",
       "      <th>348</th>\n",
       "      <td>Yes</td>\n",
       "      <td>No</td>\n",
       "      <td>Yes</td>\n",
       "      <td>No</td>\n",
       "      <td>90</td>\n",
       "      <td>Female</td>\n",
       "      <td>High</td>\n",
       "      <td>High</td>\n",
       "      <td>Positive</td>\n",
       "    </tr>\n",
       "  </tbody>\n",
       "</table>\n",
       "</div>"
      ],
      "text/plain": [
       "    Fever Cough Fatigue Difficulty Breathing  Age  Gender Blood Pressure  \\\n",
       "344   Yes    No     Yes                   No   80  Female           High   \n",
       "345   Yes    No     Yes                   No   85    Male           High   \n",
       "346   Yes    No     Yes                   No   85    Male           High   \n",
       "347   Yes    No     Yes                   No   90  Female           High   \n",
       "348   Yes    No     Yes                   No   90  Female           High   \n",
       "\n",
       "    Cholesterol Level Outcome Variable  \n",
       "344              High         Positive  \n",
       "345              High         Positive  \n",
       "346              High         Positive  \n",
       "347              High         Positive  \n",
       "348              High         Positive  "
      ]
     },
     "execution_count": 19,
     "metadata": {},
     "output_type": "execute_result"
    }
   ],
   "source": [
    "df.tail()"
   ]
  },
  {
   "cell_type": "code",
   "execution_count": 20,
   "id": "23c69494",
   "metadata": {
    "execution": {
     "iopub.execute_input": "2023-05-25T10:02:15.269818Z",
     "iopub.status.busy": "2023-05-25T10:02:15.268661Z",
     "iopub.status.idle": "2023-05-25T10:02:15.516267Z",
     "shell.execute_reply": "2023-05-25T10:02:15.515282Z"
    },
    "papermill": {
     "duration": 0.268542,
     "end_time": "2023-05-25T10:02:15.518700",
     "exception": false,
     "start_time": "2023-05-25T10:02:15.250158",
     "status": "completed"
    },
    "tags": []
   },
   "outputs": [],
   "source": [
    "from sklearn.model_selection import train_test_split"
   ]
  },
  {
   "cell_type": "code",
   "execution_count": 21,
   "id": "accc7279",
   "metadata": {
    "execution": {
     "iopub.execute_input": "2023-05-25T10:02:15.555539Z",
     "iopub.status.busy": "2023-05-25T10:02:15.555187Z",
     "iopub.status.idle": "2023-05-25T10:02:15.562398Z",
     "shell.execute_reply": "2023-05-25T10:02:15.561440Z"
    },
    "papermill": {
     "duration": 0.028477,
     "end_time": "2023-05-25T10:02:15.564287",
     "exception": false,
     "start_time": "2023-05-25T10:02:15.535810",
     "status": "completed"
    },
    "tags": []
   },
   "outputs": [],
   "source": [
    "x_train,x_test,y_train,y_test = train_test_split(df.iloc[:,:8],df.iloc[:,-1],\n",
    "                                                test_size=0.2)"
   ]
  },
  {
   "cell_type": "code",
   "execution_count": 22,
   "id": "1e4b1ef3",
   "metadata": {
    "execution": {
     "iopub.execute_input": "2023-05-25T10:02:15.598741Z",
     "iopub.status.busy": "2023-05-25T10:02:15.597905Z",
     "iopub.status.idle": "2023-05-25T10:02:15.610924Z",
     "shell.execute_reply": "2023-05-25T10:02:15.609969Z"
    },
    "papermill": {
     "duration": 0.032134,
     "end_time": "2023-05-25T10:02:15.612830",
     "exception": false,
     "start_time": "2023-05-25T10:02:15.580696",
     "status": "completed"
    },
    "tags": []
   },
   "outputs": [
    {
     "data": {
      "text/html": [
       "<div>\n",
       "<style scoped>\n",
       "    .dataframe tbody tr th:only-of-type {\n",
       "        vertical-align: middle;\n",
       "    }\n",
       "\n",
       "    .dataframe tbody tr th {\n",
       "        vertical-align: top;\n",
       "    }\n",
       "\n",
       "    .dataframe thead th {\n",
       "        text-align: right;\n",
       "    }\n",
       "</style>\n",
       "<table border=\"1\" class=\"dataframe\">\n",
       "  <thead>\n",
       "    <tr style=\"text-align: right;\">\n",
       "      <th></th>\n",
       "      <th>Fever</th>\n",
       "      <th>Cough</th>\n",
       "      <th>Fatigue</th>\n",
       "      <th>Difficulty Breathing</th>\n",
       "      <th>Age</th>\n",
       "      <th>Gender</th>\n",
       "      <th>Blood Pressure</th>\n",
       "      <th>Cholesterol Level</th>\n",
       "    </tr>\n",
       "  </thead>\n",
       "  <tbody>\n",
       "    <tr>\n",
       "      <th>123</th>\n",
       "      <td>Yes</td>\n",
       "      <td>Yes</td>\n",
       "      <td>No</td>\n",
       "      <td>Yes</td>\n",
       "      <td>40</td>\n",
       "      <td>Female</td>\n",
       "      <td>Normal</td>\n",
       "      <td>Normal</td>\n",
       "    </tr>\n",
       "    <tr>\n",
       "      <th>124</th>\n",
       "      <td>No</td>\n",
       "      <td>No</td>\n",
       "      <td>Yes</td>\n",
       "      <td>Yes</td>\n",
       "      <td>40</td>\n",
       "      <td>Male</td>\n",
       "      <td>High</td>\n",
       "      <td>High</td>\n",
       "    </tr>\n",
       "    <tr>\n",
       "      <th>52</th>\n",
       "      <td>Yes</td>\n",
       "      <td>No</td>\n",
       "      <td>Yes</td>\n",
       "      <td>Yes</td>\n",
       "      <td>31</td>\n",
       "      <td>Male</td>\n",
       "      <td>High</td>\n",
       "      <td>High</td>\n",
       "    </tr>\n",
       "    <tr>\n",
       "      <th>65</th>\n",
       "      <td>Yes</td>\n",
       "      <td>Yes</td>\n",
       "      <td>Yes</td>\n",
       "      <td>No</td>\n",
       "      <td>35</td>\n",
       "      <td>Female</td>\n",
       "      <td>High</td>\n",
       "      <td>Normal</td>\n",
       "    </tr>\n",
       "    <tr>\n",
       "      <th>135</th>\n",
       "      <td>No</td>\n",
       "      <td>No</td>\n",
       "      <td>Yes</td>\n",
       "      <td>No</td>\n",
       "      <td>40</td>\n",
       "      <td>Female</td>\n",
       "      <td>High</td>\n",
       "      <td>High</td>\n",
       "    </tr>\n",
       "  </tbody>\n",
       "</table>\n",
       "</div>"
      ],
      "text/plain": [
       "    Fever Cough Fatigue Difficulty Breathing  Age  Gender Blood Pressure  \\\n",
       "123   Yes   Yes      No                  Yes   40  Female         Normal   \n",
       "124    No    No     Yes                  Yes   40    Male           High   \n",
       "52    Yes    No     Yes                  Yes   31    Male           High   \n",
       "65    Yes   Yes     Yes                   No   35  Female           High   \n",
       "135    No    No     Yes                   No   40  Female           High   \n",
       "\n",
       "    Cholesterol Level  \n",
       "123            Normal  \n",
       "124              High  \n",
       "52               High  \n",
       "65             Normal  \n",
       "135              High  "
      ]
     },
     "execution_count": 22,
     "metadata": {},
     "output_type": "execute_result"
    }
   ],
   "source": [
    "x_train.head()"
   ]
  },
  {
   "cell_type": "raw",
   "id": "87e9c097",
   "metadata": {
    "papermill": {
     "duration": 0.015873,
     "end_time": "2023-05-25T10:02:15.645381",
     "exception": false,
     "start_time": "2023-05-25T10:02:15.629508",
     "status": "completed"
    },
    "tags": []
   },
   "source": []
  },
  {
   "cell_type": "markdown",
   "id": "66c5085b",
   "metadata": {
    "papermill": {
     "duration": 0.015987,
     "end_time": "2023-05-25T10:02:15.677703",
     "exception": false,
     "start_time": "2023-05-25T10:02:15.661716",
     "status": "completed"
    },
    "tags": []
   },
   "source": [
    "# Encoding Categorical Data"
   ]
  },
  {
   "cell_type": "code",
   "execution_count": 23,
   "id": "87d20b34",
   "metadata": {
    "execution": {
     "iopub.execute_input": "2023-05-25T10:02:15.712555Z",
     "iopub.status.busy": "2023-05-25T10:02:15.711601Z",
     "iopub.status.idle": "2023-05-25T10:02:15.715707Z",
     "shell.execute_reply": "2023-05-25T10:02:15.715099Z"
    },
    "papermill": {
     "duration": 0.023692,
     "end_time": "2023-05-25T10:02:15.717751",
     "exception": false,
     "start_time": "2023-05-25T10:02:15.694059",
     "status": "completed"
    },
    "tags": []
   },
   "outputs": [],
   "source": [
    "#importing libraries\n",
    "from sklearn.preprocessing import OneHotEncoder\n",
    "from sklearn.preprocessing import OrdinalEncoder"
   ]
  },
  {
   "cell_type": "code",
   "execution_count": 24,
   "id": "3c867529",
   "metadata": {
    "execution": {
     "iopub.execute_input": "2023-05-25T10:02:15.752813Z",
     "iopub.status.busy": "2023-05-25T10:02:15.752460Z",
     "iopub.status.idle": "2023-05-25T10:02:15.758637Z",
     "shell.execute_reply": "2023-05-25T10:02:15.757821Z"
    },
    "papermill": {
     "duration": 0.025839,
     "end_time": "2023-05-25T10:02:15.761136",
     "exception": false,
     "start_time": "2023-05-25T10:02:15.735297",
     "status": "completed"
    },
    "tags": []
   },
   "outputs": [],
   "source": [
    "oe = OrdinalEncoder(categories=[['No','Yes']])\n",
    "x_train_fever = oe.fit_transform(x_train[\"Fever\"].array.reshape(-1, 1))\n",
    "x_test_fever = oe.transform(x_test[\"Fever\"].array.reshape(-1, 1))"
   ]
  },
  {
   "cell_type": "code",
   "execution_count": 25,
   "id": "79f8e94f",
   "metadata": {
    "execution": {
     "iopub.execute_input": "2023-05-25T10:02:15.796473Z",
     "iopub.status.busy": "2023-05-25T10:02:15.795919Z",
     "iopub.status.idle": "2023-05-25T10:02:15.800983Z",
     "shell.execute_reply": "2023-05-25T10:02:15.800435Z"
    },
    "papermill": {
     "duration": 0.024476,
     "end_time": "2023-05-25T10:02:15.802570",
     "exception": false,
     "start_time": "2023-05-25T10:02:15.778094",
     "status": "completed"
    },
    "tags": []
   },
   "outputs": [],
   "source": [
    "be = OrdinalEncoder(categories=[['No','Yes']])\n",
    "x_train_cough = be.fit_transform(x_train[\"Cough\"].array.reshape(-1, 1))\n",
    "x_test_cough = be.transform(x_test[\"Cough\"].array.reshape(-1, 1))"
   ]
  },
  {
   "cell_type": "code",
   "execution_count": 26,
   "id": "7e90d299",
   "metadata": {
    "execution": {
     "iopub.execute_input": "2023-05-25T10:02:15.837016Z",
     "iopub.status.busy": "2023-05-25T10:02:15.836480Z",
     "iopub.status.idle": "2023-05-25T10:02:15.842167Z",
     "shell.execute_reply": "2023-05-25T10:02:15.841411Z"
    },
    "papermill": {
     "duration": 0.025246,
     "end_time": "2023-05-25T10:02:15.844195",
     "exception": false,
     "start_time": "2023-05-25T10:02:15.818949",
     "status": "completed"
    },
    "tags": []
   },
   "outputs": [],
   "source": [
    "ce = OrdinalEncoder(categories=[['No','Yes']])\n",
    "x_train_fat = ce.fit_transform(x_train[\"Fatigue\"].array.reshape(-1, 1))\n",
    "x_test_fat = ce.transform(x_test[\"Fatigue\"].array.reshape(-1, 1))"
   ]
  },
  {
   "cell_type": "code",
   "execution_count": 27,
   "id": "8afb0bfc",
   "metadata": {
    "execution": {
     "iopub.execute_input": "2023-05-25T10:02:15.879789Z",
     "iopub.status.busy": "2023-05-25T10:02:15.878544Z",
     "iopub.status.idle": "2023-05-25T10:02:15.885880Z",
     "shell.execute_reply": "2023-05-25T10:02:15.884724Z"
    },
    "papermill": {
     "duration": 0.026896,
     "end_time": "2023-05-25T10:02:15.887851",
     "exception": false,
     "start_time": "2023-05-25T10:02:15.860955",
     "status": "completed"
    },
    "tags": []
   },
   "outputs": [],
   "source": [
    "de = OrdinalEncoder(categories=[['No','Yes']])\n",
    "x_train_breath = de.fit_transform(x_train[\"Difficulty Breathing\"].array.reshape(-1, 1))\n",
    "x_test_breath = de.transform(x_test[\"Difficulty Breathing\"].array.reshape(-1, 1))"
   ]
  },
  {
   "cell_type": "code",
   "execution_count": 28,
   "id": "32c610e4",
   "metadata": {
    "execution": {
     "iopub.execute_input": "2023-05-25T10:02:15.922761Z",
     "iopub.status.busy": "2023-05-25T10:02:15.922435Z",
     "iopub.status.idle": "2023-05-25T10:02:15.928845Z",
     "shell.execute_reply": "2023-05-25T10:02:15.927805Z"
    },
    "papermill": {
     "duration": 0.026212,
     "end_time": "2023-05-25T10:02:15.930783",
     "exception": false,
     "start_time": "2023-05-25T10:02:15.904571",
     "status": "completed"
    },
    "tags": []
   },
   "outputs": [],
   "source": [
    "fe = OrdinalEncoder(categories=[['Low','Normal',\"High\"]])\n",
    "x_train_blood = fe.fit_transform(x_train[\"Blood Pressure\"].array.reshape(-1, 1))\n",
    "x_test_blood = fe.transform(x_test[\"Blood Pressure\"].array.reshape(-1, 1))"
   ]
  },
  {
   "cell_type": "code",
   "execution_count": 29,
   "id": "b0c2d387",
   "metadata": {
    "execution": {
     "iopub.execute_input": "2023-05-25T10:02:15.966778Z",
     "iopub.status.busy": "2023-05-25T10:02:15.966443Z",
     "iopub.status.idle": "2023-05-25T10:02:15.972504Z",
     "shell.execute_reply": "2023-05-25T10:02:15.971125Z"
    },
    "papermill": {
     "duration": 0.026597,
     "end_time": "2023-05-25T10:02:15.974528",
     "exception": false,
     "start_time": "2023-05-25T10:02:15.947931",
     "status": "completed"
    },
    "tags": []
   },
   "outputs": [],
   "source": [
    "ge = OrdinalEncoder(categories=[['Low','Normal',\"High\"]])\n",
    "x_train_chol = ge.fit_transform(x_train[\"Cholesterol Level\"].array.reshape(-1, 1))\n",
    "x_test_chol = ge.transform(x_test[\"Cholesterol Level\"].array.reshape(-1, 1))"
   ]
  },
  {
   "cell_type": "code",
   "execution_count": 30,
   "id": "cd982482",
   "metadata": {
    "execution": {
     "iopub.execute_input": "2023-05-25T10:02:16.008340Z",
     "iopub.status.busy": "2023-05-25T10:02:16.007728Z",
     "iopub.status.idle": "2023-05-25T10:02:16.022020Z",
     "shell.execute_reply": "2023-05-25T10:02:16.020751Z"
    },
    "papermill": {
     "duration": 0.033345,
     "end_time": "2023-05-25T10:02:16.023860",
     "exception": false,
     "start_time": "2023-05-25T10:02:15.990515",
     "status": "completed"
    },
    "tags": []
   },
   "outputs": [
    {
     "name": "stderr",
     "output_type": "stream",
     "text": [
      "/opt/conda/lib/python3.10/site-packages/sklearn/preprocessing/_encoders.py:868: FutureWarning: `sparse` was renamed to `sparse_output` in version 1.2 and will be removed in 1.4. `sparse_output` is ignored unless you leave `sparse` to its default value.\n",
      "  warnings.warn(\n"
     ]
    }
   ],
   "source": [
    "ohe = OneHotEncoder(drop='first',sparse=False)\n",
    "x_train_gender = ohe.fit_transform(x_train['Gender'].array.reshape(-1, 1))\n",
    "x_test_gender = ohe.transform(x_test['Gender'].array.reshape(-1, 1))"
   ]
  },
  {
   "cell_type": "code",
   "execution_count": 31,
   "id": "fb53467f",
   "metadata": {
    "execution": {
     "iopub.execute_input": "2023-05-25T10:02:16.059223Z",
     "iopub.status.busy": "2023-05-25T10:02:16.058866Z",
     "iopub.status.idle": "2023-05-25T10:02:16.064495Z",
     "shell.execute_reply": "2023-05-25T10:02:16.063392Z"
    },
    "papermill": {
     "duration": 0.025004,
     "end_time": "2023-05-25T10:02:16.066042",
     "exception": false,
     "start_time": "2023-05-25T10:02:16.041038",
     "status": "completed"
    },
    "tags": []
   },
   "outputs": [],
   "source": [
    "x_train_transformed = np.concatenate((x_train_fever,x_train_cough,x_train_fat,x_train_breath,x_train_blood,x_train_chol,x_train_gender),axis=1)\n",
    "\n",
    "x_test_transformed = np.concatenate((x_test_fever,x_test_cough,x_test_fat,x_test_breath,x_test_blood,x_test_chol,x_test_gender),axis=1)"
   ]
  },
  {
   "cell_type": "code",
   "execution_count": 32,
   "id": "acd96ec8",
   "metadata": {
    "execution": {
     "iopub.execute_input": "2023-05-25T10:02:16.099656Z",
     "iopub.status.busy": "2023-05-25T10:02:16.099337Z",
     "iopub.status.idle": "2023-05-25T10:02:16.102871Z",
     "shell.execute_reply": "2023-05-25T10:02:16.102292Z"
    },
    "papermill": {
     "duration": 0.022052,
     "end_time": "2023-05-25T10:02:16.104416",
     "exception": false,
     "start_time": "2023-05-25T10:02:16.082364",
     "status": "completed"
    },
    "tags": []
   },
   "outputs": [],
   "source": [
    "from sklearn.preprocessing import LabelEncoder"
   ]
  },
  {
   "cell_type": "code",
   "execution_count": 33,
   "id": "d9595914",
   "metadata": {
    "execution": {
     "iopub.execute_input": "2023-05-25T10:02:16.139492Z",
     "iopub.status.busy": "2023-05-25T10:02:16.139159Z",
     "iopub.status.idle": "2023-05-25T10:02:16.150612Z",
     "shell.execute_reply": "2023-05-25T10:02:16.149269Z"
    },
    "papermill": {
     "duration": 0.031228,
     "end_time": "2023-05-25T10:02:16.152490",
     "exception": false,
     "start_time": "2023-05-25T10:02:16.121262",
     "status": "completed"
    },
    "tags": []
   },
   "outputs": [
    {
     "data": {
      "text/html": [
       "<style>#sk-container-id-1 {color: black;background-color: white;}#sk-container-id-1 pre{padding: 0;}#sk-container-id-1 div.sk-toggleable {background-color: white;}#sk-container-id-1 label.sk-toggleable__label {cursor: pointer;display: block;width: 100%;margin-bottom: 0;padding: 0.3em;box-sizing: border-box;text-align: center;}#sk-container-id-1 label.sk-toggleable__label-arrow:before {content: \"▸\";float: left;margin-right: 0.25em;color: #696969;}#sk-container-id-1 label.sk-toggleable__label-arrow:hover:before {color: black;}#sk-container-id-1 div.sk-estimator:hover label.sk-toggleable__label-arrow:before {color: black;}#sk-container-id-1 div.sk-toggleable__content {max-height: 0;max-width: 0;overflow: hidden;text-align: left;background-color: #f0f8ff;}#sk-container-id-1 div.sk-toggleable__content pre {margin: 0.2em;color: black;border-radius: 0.25em;background-color: #f0f8ff;}#sk-container-id-1 input.sk-toggleable__control:checked~div.sk-toggleable__content {max-height: 200px;max-width: 100%;overflow: auto;}#sk-container-id-1 input.sk-toggleable__control:checked~label.sk-toggleable__label-arrow:before {content: \"▾\";}#sk-container-id-1 div.sk-estimator input.sk-toggleable__control:checked~label.sk-toggleable__label {background-color: #d4ebff;}#sk-container-id-1 div.sk-label input.sk-toggleable__control:checked~label.sk-toggleable__label {background-color: #d4ebff;}#sk-container-id-1 input.sk-hidden--visually {border: 0;clip: rect(1px 1px 1px 1px);clip: rect(1px, 1px, 1px, 1px);height: 1px;margin: -1px;overflow: hidden;padding: 0;position: absolute;width: 1px;}#sk-container-id-1 div.sk-estimator {font-family: monospace;background-color: #f0f8ff;border: 1px dotted black;border-radius: 0.25em;box-sizing: border-box;margin-bottom: 0.5em;}#sk-container-id-1 div.sk-estimator:hover {background-color: #d4ebff;}#sk-container-id-1 div.sk-parallel-item::after {content: \"\";width: 100%;border-bottom: 1px solid gray;flex-grow: 1;}#sk-container-id-1 div.sk-label:hover label.sk-toggleable__label {background-color: #d4ebff;}#sk-container-id-1 div.sk-serial::before {content: \"\";position: absolute;border-left: 1px solid gray;box-sizing: border-box;top: 0;bottom: 0;left: 50%;z-index: 0;}#sk-container-id-1 div.sk-serial {display: flex;flex-direction: column;align-items: center;background-color: white;padding-right: 0.2em;padding-left: 0.2em;position: relative;}#sk-container-id-1 div.sk-item {position: relative;z-index: 1;}#sk-container-id-1 div.sk-parallel {display: flex;align-items: stretch;justify-content: center;background-color: white;position: relative;}#sk-container-id-1 div.sk-item::before, #sk-container-id-1 div.sk-parallel-item::before {content: \"\";position: absolute;border-left: 1px solid gray;box-sizing: border-box;top: 0;bottom: 0;left: 50%;z-index: -1;}#sk-container-id-1 div.sk-parallel-item {display: flex;flex-direction: column;z-index: 1;position: relative;background-color: white;}#sk-container-id-1 div.sk-parallel-item:first-child::after {align-self: flex-end;width: 50%;}#sk-container-id-1 div.sk-parallel-item:last-child::after {align-self: flex-start;width: 50%;}#sk-container-id-1 div.sk-parallel-item:only-child::after {width: 0;}#sk-container-id-1 div.sk-dashed-wrapped {border: 1px dashed gray;margin: 0 0.4em 0.5em 0.4em;box-sizing: border-box;padding-bottom: 0.4em;background-color: white;}#sk-container-id-1 div.sk-label label {font-family: monospace;font-weight: bold;display: inline-block;line-height: 1.2em;}#sk-container-id-1 div.sk-label-container {text-align: center;}#sk-container-id-1 div.sk-container {/* jupyter's `normalize.less` sets `[hidden] { display: none; }` but bootstrap.min.css set `[hidden] { display: none !important; }` so we also need the `!important` here to be able to override the default hidden behavior on the sphinx rendered scikit-learn.org. See: https://github.com/scikit-learn/scikit-learn/issues/21755 */display: inline-block !important;position: relative;}#sk-container-id-1 div.sk-text-repr-fallback {display: none;}</style><div id=\"sk-container-id-1\" class=\"sk-top-container\"><div class=\"sk-text-repr-fallback\"><pre>LabelEncoder()</pre><b>In a Jupyter environment, please rerun this cell to show the HTML representation or trust the notebook. <br />On GitHub, the HTML representation is unable to render, please try loading this page with nbviewer.org.</b></div><div class=\"sk-container\" hidden><div class=\"sk-item\"><div class=\"sk-estimator sk-toggleable\"><input class=\"sk-toggleable__control sk-hidden--visually\" id=\"sk-estimator-id-1\" type=\"checkbox\" checked><label for=\"sk-estimator-id-1\" class=\"sk-toggleable__label sk-toggleable__label-arrow\">LabelEncoder</label><div class=\"sk-toggleable__content\"><pre>LabelEncoder()</pre></div></div></div></div></div>"
      ],
      "text/plain": [
       "LabelEncoder()"
      ]
     },
     "execution_count": 33,
     "metadata": {},
     "output_type": "execute_result"
    }
   ],
   "source": [
    "le = LabelEncoder()\n",
    "le.fit(y_train)"
   ]
  },
  {
   "cell_type": "code",
   "execution_count": 34,
   "id": "ae06e39a",
   "metadata": {
    "execution": {
     "iopub.execute_input": "2023-05-25T10:02:16.189201Z",
     "iopub.status.busy": "2023-05-25T10:02:16.188138Z",
     "iopub.status.idle": "2023-05-25T10:02:16.192993Z",
     "shell.execute_reply": "2023-05-25T10:02:16.192384Z"
    },
    "papermill": {
     "duration": 0.024359,
     "end_time": "2023-05-25T10:02:16.194752",
     "exception": false,
     "start_time": "2023-05-25T10:02:16.170393",
     "status": "completed"
    },
    "tags": []
   },
   "outputs": [],
   "source": [
    "y_train = le.transform(y_train)\n",
    "y_test = le.transform(y_test)"
   ]
  },
  {
   "cell_type": "markdown",
   "id": "44bf6957",
   "metadata": {
    "papermill": {
     "duration": 0.017254,
     "end_time": "2023-05-25T10:02:16.228797",
     "exception": false,
     "start_time": "2023-05-25T10:02:16.211543",
     "status": "completed"
    },
    "tags": []
   },
   "source": [
    "# Decision Trees\n"
   ]
  },
  {
   "cell_type": "code",
   "execution_count": 35,
   "id": "68405f51",
   "metadata": {
    "execution": {
     "iopub.execute_input": "2023-05-25T10:02:16.266485Z",
     "iopub.status.busy": "2023-05-25T10:02:16.264826Z",
     "iopub.status.idle": "2023-05-25T10:02:16.525206Z",
     "shell.execute_reply": "2023-05-25T10:02:16.523996Z"
    },
    "papermill": {
     "duration": 0.281335,
     "end_time": "2023-05-25T10:02:16.527686",
     "exception": false,
     "start_time": "2023-05-25T10:02:16.246351",
     "status": "completed"
    },
    "tags": []
   },
   "outputs": [],
   "source": [
    "#importing library\n",
    "from sklearn import tree"
   ]
  },
  {
   "cell_type": "code",
   "execution_count": 36,
   "id": "a3b9e85c",
   "metadata": {
    "execution": {
     "iopub.execute_input": "2023-05-25T10:02:16.563035Z",
     "iopub.status.busy": "2023-05-25T10:02:16.562721Z",
     "iopub.status.idle": "2023-05-25T10:02:16.571891Z",
     "shell.execute_reply": "2023-05-25T10:02:16.571148Z"
    },
    "papermill": {
     "duration": 0.028629,
     "end_time": "2023-05-25T10:02:16.573531",
     "exception": false,
     "start_time": "2023-05-25T10:02:16.544902",
     "status": "completed"
    },
    "tags": []
   },
   "outputs": [
    {
     "data": {
      "text/html": [
       "<style>#sk-container-id-2 {color: black;background-color: white;}#sk-container-id-2 pre{padding: 0;}#sk-container-id-2 div.sk-toggleable {background-color: white;}#sk-container-id-2 label.sk-toggleable__label {cursor: pointer;display: block;width: 100%;margin-bottom: 0;padding: 0.3em;box-sizing: border-box;text-align: center;}#sk-container-id-2 label.sk-toggleable__label-arrow:before {content: \"▸\";float: left;margin-right: 0.25em;color: #696969;}#sk-container-id-2 label.sk-toggleable__label-arrow:hover:before {color: black;}#sk-container-id-2 div.sk-estimator:hover label.sk-toggleable__label-arrow:before {color: black;}#sk-container-id-2 div.sk-toggleable__content {max-height: 0;max-width: 0;overflow: hidden;text-align: left;background-color: #f0f8ff;}#sk-container-id-2 div.sk-toggleable__content pre {margin: 0.2em;color: black;border-radius: 0.25em;background-color: #f0f8ff;}#sk-container-id-2 input.sk-toggleable__control:checked~div.sk-toggleable__content {max-height: 200px;max-width: 100%;overflow: auto;}#sk-container-id-2 input.sk-toggleable__control:checked~label.sk-toggleable__label-arrow:before {content: \"▾\";}#sk-container-id-2 div.sk-estimator input.sk-toggleable__control:checked~label.sk-toggleable__label {background-color: #d4ebff;}#sk-container-id-2 div.sk-label input.sk-toggleable__control:checked~label.sk-toggleable__label {background-color: #d4ebff;}#sk-container-id-2 input.sk-hidden--visually {border: 0;clip: rect(1px 1px 1px 1px);clip: rect(1px, 1px, 1px, 1px);height: 1px;margin: -1px;overflow: hidden;padding: 0;position: absolute;width: 1px;}#sk-container-id-2 div.sk-estimator {font-family: monospace;background-color: #f0f8ff;border: 1px dotted black;border-radius: 0.25em;box-sizing: border-box;margin-bottom: 0.5em;}#sk-container-id-2 div.sk-estimator:hover {background-color: #d4ebff;}#sk-container-id-2 div.sk-parallel-item::after {content: \"\";width: 100%;border-bottom: 1px solid gray;flex-grow: 1;}#sk-container-id-2 div.sk-label:hover label.sk-toggleable__label {background-color: #d4ebff;}#sk-container-id-2 div.sk-serial::before {content: \"\";position: absolute;border-left: 1px solid gray;box-sizing: border-box;top: 0;bottom: 0;left: 50%;z-index: 0;}#sk-container-id-2 div.sk-serial {display: flex;flex-direction: column;align-items: center;background-color: white;padding-right: 0.2em;padding-left: 0.2em;position: relative;}#sk-container-id-2 div.sk-item {position: relative;z-index: 1;}#sk-container-id-2 div.sk-parallel {display: flex;align-items: stretch;justify-content: center;background-color: white;position: relative;}#sk-container-id-2 div.sk-item::before, #sk-container-id-2 div.sk-parallel-item::before {content: \"\";position: absolute;border-left: 1px solid gray;box-sizing: border-box;top: 0;bottom: 0;left: 50%;z-index: -1;}#sk-container-id-2 div.sk-parallel-item {display: flex;flex-direction: column;z-index: 1;position: relative;background-color: white;}#sk-container-id-2 div.sk-parallel-item:first-child::after {align-self: flex-end;width: 50%;}#sk-container-id-2 div.sk-parallel-item:last-child::after {align-self: flex-start;width: 50%;}#sk-container-id-2 div.sk-parallel-item:only-child::after {width: 0;}#sk-container-id-2 div.sk-dashed-wrapped {border: 1px dashed gray;margin: 0 0.4em 0.5em 0.4em;box-sizing: border-box;padding-bottom: 0.4em;background-color: white;}#sk-container-id-2 div.sk-label label {font-family: monospace;font-weight: bold;display: inline-block;line-height: 1.2em;}#sk-container-id-2 div.sk-label-container {text-align: center;}#sk-container-id-2 div.sk-container {/* jupyter's `normalize.less` sets `[hidden] { display: none; }` but bootstrap.min.css set `[hidden] { display: none !important; }` so we also need the `!important` here to be able to override the default hidden behavior on the sphinx rendered scikit-learn.org. See: https://github.com/scikit-learn/scikit-learn/issues/21755 */display: inline-block !important;position: relative;}#sk-container-id-2 div.sk-text-repr-fallback {display: none;}</style><div id=\"sk-container-id-2\" class=\"sk-top-container\"><div class=\"sk-text-repr-fallback\"><pre>DecisionTreeClassifier()</pre><b>In a Jupyter environment, please rerun this cell to show the HTML representation or trust the notebook. <br />On GitHub, the HTML representation is unable to render, please try loading this page with nbviewer.org.</b></div><div class=\"sk-container\" hidden><div class=\"sk-item\"><div class=\"sk-estimator sk-toggleable\"><input class=\"sk-toggleable__control sk-hidden--visually\" id=\"sk-estimator-id-2\" type=\"checkbox\" checked><label for=\"sk-estimator-id-2\" class=\"sk-toggleable__label sk-toggleable__label-arrow\">DecisionTreeClassifier</label><div class=\"sk-toggleable__content\"><pre>DecisionTreeClassifier()</pre></div></div></div></div></div>"
      ],
      "text/plain": [
       "DecisionTreeClassifier()"
      ]
     },
     "execution_count": 36,
     "metadata": {},
     "output_type": "execute_result"
    }
   ],
   "source": [
    "#implementing decision trees\n",
    "dtr = tree.DecisionTreeClassifier()\n",
    "dtr.fit(x_train_transformed,y_train)"
   ]
  },
  {
   "cell_type": "code",
   "execution_count": 37,
   "id": "13475eb0",
   "metadata": {
    "execution": {
     "iopub.execute_input": "2023-05-25T10:02:16.609013Z",
     "iopub.status.busy": "2023-05-25T10:02:16.608688Z",
     "iopub.status.idle": "2023-05-25T10:02:16.616166Z",
     "shell.execute_reply": "2023-05-25T10:02:16.615179Z"
    },
    "papermill": {
     "duration": 0.028267,
     "end_time": "2023-05-25T10:02:16.618653",
     "exception": false,
     "start_time": "2023-05-25T10:02:16.590386",
     "status": "completed"
    },
    "tags": []
   },
   "outputs": [
    {
     "data": {
      "text/plain": [
       "0.6714285714285714"
      ]
     },
     "execution_count": 37,
     "metadata": {},
     "output_type": "execute_result"
    }
   ],
   "source": [
    "#predicting values and testing accuracy\n",
    "from sklearn.metrics import accuracy_score\n",
    "dpred=dtr.predict(x_test_transformed)\n",
    "accuracy_score(dpred,y_test)"
   ]
  },
  {
   "cell_type": "markdown",
   "id": "1a641250",
   "metadata": {
    "papermill": {
     "duration": 0.01718,
     "end_time": "2023-05-25T10:02:16.653198",
     "exception": false,
     "start_time": "2023-05-25T10:02:16.636018",
     "status": "completed"
    },
    "tags": []
   },
   "source": [
    "# Random Forests"
   ]
  },
  {
   "cell_type": "code",
   "execution_count": 38,
   "id": "bf68ed4b",
   "metadata": {
    "execution": {
     "iopub.execute_input": "2023-05-25T10:02:16.689446Z",
     "iopub.status.busy": "2023-05-25T10:02:16.689087Z",
     "iopub.status.idle": "2023-05-25T10:02:16.797187Z",
     "shell.execute_reply": "2023-05-25T10:02:16.796166Z"
    },
    "papermill": {
     "duration": 0.129149,
     "end_time": "2023-05-25T10:02:16.799730",
     "exception": false,
     "start_time": "2023-05-25T10:02:16.670581",
     "status": "completed"
    },
    "tags": []
   },
   "outputs": [],
   "source": [
    "#importing library\n",
    "from sklearn.ensemble import RandomForestClassifier"
   ]
  },
  {
   "cell_type": "code",
   "execution_count": 39,
   "id": "fb2f4d26",
   "metadata": {
    "execution": {
     "iopub.execute_input": "2023-05-25T10:02:16.840558Z",
     "iopub.status.busy": "2023-05-25T10:02:16.840205Z",
     "iopub.status.idle": "2023-05-25T10:02:16.987082Z",
     "shell.execute_reply": "2023-05-25T10:02:16.985530Z"
    },
    "papermill": {
     "duration": 0.171773,
     "end_time": "2023-05-25T10:02:16.989540",
     "exception": false,
     "start_time": "2023-05-25T10:02:16.817767",
     "status": "completed"
    },
    "tags": []
   },
   "outputs": [
    {
     "data": {
      "text/html": [
       "<style>#sk-container-id-3 {color: black;background-color: white;}#sk-container-id-3 pre{padding: 0;}#sk-container-id-3 div.sk-toggleable {background-color: white;}#sk-container-id-3 label.sk-toggleable__label {cursor: pointer;display: block;width: 100%;margin-bottom: 0;padding: 0.3em;box-sizing: border-box;text-align: center;}#sk-container-id-3 label.sk-toggleable__label-arrow:before {content: \"▸\";float: left;margin-right: 0.25em;color: #696969;}#sk-container-id-3 label.sk-toggleable__label-arrow:hover:before {color: black;}#sk-container-id-3 div.sk-estimator:hover label.sk-toggleable__label-arrow:before {color: black;}#sk-container-id-3 div.sk-toggleable__content {max-height: 0;max-width: 0;overflow: hidden;text-align: left;background-color: #f0f8ff;}#sk-container-id-3 div.sk-toggleable__content pre {margin: 0.2em;color: black;border-radius: 0.25em;background-color: #f0f8ff;}#sk-container-id-3 input.sk-toggleable__control:checked~div.sk-toggleable__content {max-height: 200px;max-width: 100%;overflow: auto;}#sk-container-id-3 input.sk-toggleable__control:checked~label.sk-toggleable__label-arrow:before {content: \"▾\";}#sk-container-id-3 div.sk-estimator input.sk-toggleable__control:checked~label.sk-toggleable__label {background-color: #d4ebff;}#sk-container-id-3 div.sk-label input.sk-toggleable__control:checked~label.sk-toggleable__label {background-color: #d4ebff;}#sk-container-id-3 input.sk-hidden--visually {border: 0;clip: rect(1px 1px 1px 1px);clip: rect(1px, 1px, 1px, 1px);height: 1px;margin: -1px;overflow: hidden;padding: 0;position: absolute;width: 1px;}#sk-container-id-3 div.sk-estimator {font-family: monospace;background-color: #f0f8ff;border: 1px dotted black;border-radius: 0.25em;box-sizing: border-box;margin-bottom: 0.5em;}#sk-container-id-3 div.sk-estimator:hover {background-color: #d4ebff;}#sk-container-id-3 div.sk-parallel-item::after {content: \"\";width: 100%;border-bottom: 1px solid gray;flex-grow: 1;}#sk-container-id-3 div.sk-label:hover label.sk-toggleable__label {background-color: #d4ebff;}#sk-container-id-3 div.sk-serial::before {content: \"\";position: absolute;border-left: 1px solid gray;box-sizing: border-box;top: 0;bottom: 0;left: 50%;z-index: 0;}#sk-container-id-3 div.sk-serial {display: flex;flex-direction: column;align-items: center;background-color: white;padding-right: 0.2em;padding-left: 0.2em;position: relative;}#sk-container-id-3 div.sk-item {position: relative;z-index: 1;}#sk-container-id-3 div.sk-parallel {display: flex;align-items: stretch;justify-content: center;background-color: white;position: relative;}#sk-container-id-3 div.sk-item::before, #sk-container-id-3 div.sk-parallel-item::before {content: \"\";position: absolute;border-left: 1px solid gray;box-sizing: border-box;top: 0;bottom: 0;left: 50%;z-index: -1;}#sk-container-id-3 div.sk-parallel-item {display: flex;flex-direction: column;z-index: 1;position: relative;background-color: white;}#sk-container-id-3 div.sk-parallel-item:first-child::after {align-self: flex-end;width: 50%;}#sk-container-id-3 div.sk-parallel-item:last-child::after {align-self: flex-start;width: 50%;}#sk-container-id-3 div.sk-parallel-item:only-child::after {width: 0;}#sk-container-id-3 div.sk-dashed-wrapped {border: 1px dashed gray;margin: 0 0.4em 0.5em 0.4em;box-sizing: border-box;padding-bottom: 0.4em;background-color: white;}#sk-container-id-3 div.sk-label label {font-family: monospace;font-weight: bold;display: inline-block;line-height: 1.2em;}#sk-container-id-3 div.sk-label-container {text-align: center;}#sk-container-id-3 div.sk-container {/* jupyter's `normalize.less` sets `[hidden] { display: none; }` but bootstrap.min.css set `[hidden] { display: none !important; }` so we also need the `!important` here to be able to override the default hidden behavior on the sphinx rendered scikit-learn.org. See: https://github.com/scikit-learn/scikit-learn/issues/21755 */display: inline-block !important;position: relative;}#sk-container-id-3 div.sk-text-repr-fallback {display: none;}</style><div id=\"sk-container-id-3\" class=\"sk-top-container\"><div class=\"sk-text-repr-fallback\"><pre>RandomForestClassifier()</pre><b>In a Jupyter environment, please rerun this cell to show the HTML representation or trust the notebook. <br />On GitHub, the HTML representation is unable to render, please try loading this page with nbviewer.org.</b></div><div class=\"sk-container\" hidden><div class=\"sk-item\"><div class=\"sk-estimator sk-toggleable\"><input class=\"sk-toggleable__control sk-hidden--visually\" id=\"sk-estimator-id-3\" type=\"checkbox\" checked><label for=\"sk-estimator-id-3\" class=\"sk-toggleable__label sk-toggleable__label-arrow\">RandomForestClassifier</label><div class=\"sk-toggleable__content\"><pre>RandomForestClassifier()</pre></div></div></div></div></div>"
      ],
      "text/plain": [
       "RandomForestClassifier()"
      ]
     },
     "execution_count": 39,
     "metadata": {},
     "output_type": "execute_result"
    }
   ],
   "source": [
    "#implementing random forests\n",
    "rfr = RandomForestClassifier()\n",
    "rfr.fit(x_train_transformed,y_train)"
   ]
  },
  {
   "cell_type": "code",
   "execution_count": 40,
   "id": "4cd73fd5",
   "metadata": {
    "execution": {
     "iopub.execute_input": "2023-05-25T10:02:17.026271Z",
     "iopub.status.busy": "2023-05-25T10:02:17.025833Z",
     "iopub.status.idle": "2023-05-25T10:02:17.044798Z",
     "shell.execute_reply": "2023-05-25T10:02:17.043454Z"
    },
    "papermill": {
     "duration": 0.040006,
     "end_time": "2023-05-25T10:02:17.047031",
     "exception": false,
     "start_time": "2023-05-25T10:02:17.007025",
     "status": "completed"
    },
    "tags": []
   },
   "outputs": [
    {
     "data": {
      "text/plain": [
       "0.6"
      ]
     },
     "execution_count": 40,
     "metadata": {},
     "output_type": "execute_result"
    }
   ],
   "source": [
    "#predicting values and testing accuracy\n",
    "fpred=rfr.predict(x_test_transformed)\n",
    "accuracy_score(fpred,y_test)"
   ]
  },
  {
   "cell_type": "markdown",
   "id": "4c8b4191",
   "metadata": {
    "papermill": {
     "duration": 0.017527,
     "end_time": "2023-05-25T10:02:17.083097",
     "exception": false,
     "start_time": "2023-05-25T10:02:17.065570",
     "status": "completed"
    },
    "tags": []
   },
   "source": [
    "# Logistic Regression"
   ]
  },
  {
   "cell_type": "code",
   "execution_count": 41,
   "id": "6c5681fb",
   "metadata": {
    "execution": {
     "iopub.execute_input": "2023-05-25T10:02:17.120513Z",
     "iopub.status.busy": "2023-05-25T10:02:17.120175Z",
     "iopub.status.idle": "2023-05-25T10:02:17.124080Z",
     "shell.execute_reply": "2023-05-25T10:02:17.123313Z"
    },
    "papermill": {
     "duration": 0.025049,
     "end_time": "2023-05-25T10:02:17.125769",
     "exception": false,
     "start_time": "2023-05-25T10:02:17.100720",
     "status": "completed"
    },
    "tags": []
   },
   "outputs": [],
   "source": [
    "# importing libraries\n",
    "from sklearn.linear_model import LogisticRegression"
   ]
  },
  {
   "cell_type": "code",
   "execution_count": 42,
   "id": "7001de33",
   "metadata": {
    "execution": {
     "iopub.execute_input": "2023-05-25T10:02:17.162308Z",
     "iopub.status.busy": "2023-05-25T10:02:17.161620Z",
     "iopub.status.idle": "2023-05-25T10:02:17.177071Z",
     "shell.execute_reply": "2023-05-25T10:02:17.176172Z"
    },
    "papermill": {
     "duration": 0.036127,
     "end_time": "2023-05-25T10:02:17.179807",
     "exception": false,
     "start_time": "2023-05-25T10:02:17.143680",
     "status": "completed"
    },
    "tags": []
   },
   "outputs": [
    {
     "data": {
      "text/html": [
       "<style>#sk-container-id-4 {color: black;background-color: white;}#sk-container-id-4 pre{padding: 0;}#sk-container-id-4 div.sk-toggleable {background-color: white;}#sk-container-id-4 label.sk-toggleable__label {cursor: pointer;display: block;width: 100%;margin-bottom: 0;padding: 0.3em;box-sizing: border-box;text-align: center;}#sk-container-id-4 label.sk-toggleable__label-arrow:before {content: \"▸\";float: left;margin-right: 0.25em;color: #696969;}#sk-container-id-4 label.sk-toggleable__label-arrow:hover:before {color: black;}#sk-container-id-4 div.sk-estimator:hover label.sk-toggleable__label-arrow:before {color: black;}#sk-container-id-4 div.sk-toggleable__content {max-height: 0;max-width: 0;overflow: hidden;text-align: left;background-color: #f0f8ff;}#sk-container-id-4 div.sk-toggleable__content pre {margin: 0.2em;color: black;border-radius: 0.25em;background-color: #f0f8ff;}#sk-container-id-4 input.sk-toggleable__control:checked~div.sk-toggleable__content {max-height: 200px;max-width: 100%;overflow: auto;}#sk-container-id-4 input.sk-toggleable__control:checked~label.sk-toggleable__label-arrow:before {content: \"▾\";}#sk-container-id-4 div.sk-estimator input.sk-toggleable__control:checked~label.sk-toggleable__label {background-color: #d4ebff;}#sk-container-id-4 div.sk-label input.sk-toggleable__control:checked~label.sk-toggleable__label {background-color: #d4ebff;}#sk-container-id-4 input.sk-hidden--visually {border: 0;clip: rect(1px 1px 1px 1px);clip: rect(1px, 1px, 1px, 1px);height: 1px;margin: -1px;overflow: hidden;padding: 0;position: absolute;width: 1px;}#sk-container-id-4 div.sk-estimator {font-family: monospace;background-color: #f0f8ff;border: 1px dotted black;border-radius: 0.25em;box-sizing: border-box;margin-bottom: 0.5em;}#sk-container-id-4 div.sk-estimator:hover {background-color: #d4ebff;}#sk-container-id-4 div.sk-parallel-item::after {content: \"\";width: 100%;border-bottom: 1px solid gray;flex-grow: 1;}#sk-container-id-4 div.sk-label:hover label.sk-toggleable__label {background-color: #d4ebff;}#sk-container-id-4 div.sk-serial::before {content: \"\";position: absolute;border-left: 1px solid gray;box-sizing: border-box;top: 0;bottom: 0;left: 50%;z-index: 0;}#sk-container-id-4 div.sk-serial {display: flex;flex-direction: column;align-items: center;background-color: white;padding-right: 0.2em;padding-left: 0.2em;position: relative;}#sk-container-id-4 div.sk-item {position: relative;z-index: 1;}#sk-container-id-4 div.sk-parallel {display: flex;align-items: stretch;justify-content: center;background-color: white;position: relative;}#sk-container-id-4 div.sk-item::before, #sk-container-id-4 div.sk-parallel-item::before {content: \"\";position: absolute;border-left: 1px solid gray;box-sizing: border-box;top: 0;bottom: 0;left: 50%;z-index: -1;}#sk-container-id-4 div.sk-parallel-item {display: flex;flex-direction: column;z-index: 1;position: relative;background-color: white;}#sk-container-id-4 div.sk-parallel-item:first-child::after {align-self: flex-end;width: 50%;}#sk-container-id-4 div.sk-parallel-item:last-child::after {align-self: flex-start;width: 50%;}#sk-container-id-4 div.sk-parallel-item:only-child::after {width: 0;}#sk-container-id-4 div.sk-dashed-wrapped {border: 1px dashed gray;margin: 0 0.4em 0.5em 0.4em;box-sizing: border-box;padding-bottom: 0.4em;background-color: white;}#sk-container-id-4 div.sk-label label {font-family: monospace;font-weight: bold;display: inline-block;line-height: 1.2em;}#sk-container-id-4 div.sk-label-container {text-align: center;}#sk-container-id-4 div.sk-container {/* jupyter's `normalize.less` sets `[hidden] { display: none; }` but bootstrap.min.css set `[hidden] { display: none !important; }` so we also need the `!important` here to be able to override the default hidden behavior on the sphinx rendered scikit-learn.org. See: https://github.com/scikit-learn/scikit-learn/issues/21755 */display: inline-block !important;position: relative;}#sk-container-id-4 div.sk-text-repr-fallback {display: none;}</style><div id=\"sk-container-id-4\" class=\"sk-top-container\"><div class=\"sk-text-repr-fallback\"><pre>LogisticRegression()</pre><b>In a Jupyter environment, please rerun this cell to show the HTML representation or trust the notebook. <br />On GitHub, the HTML representation is unable to render, please try loading this page with nbviewer.org.</b></div><div class=\"sk-container\" hidden><div class=\"sk-item\"><div class=\"sk-estimator sk-toggleable\"><input class=\"sk-toggleable__control sk-hidden--visually\" id=\"sk-estimator-id-4\" type=\"checkbox\" checked><label for=\"sk-estimator-id-4\" class=\"sk-toggleable__label sk-toggleable__label-arrow\">LogisticRegression</label><div class=\"sk-toggleable__content\"><pre>LogisticRegression()</pre></div></div></div></div></div>"
      ],
      "text/plain": [
       "LogisticRegression()"
      ]
     },
     "execution_count": 42,
     "metadata": {},
     "output_type": "execute_result"
    }
   ],
   "source": [
    "#implementing Logistic Regression\n",
    "lreg = LogisticRegression()\n",
    "lreg.fit(x_train_transformed,y_train)"
   ]
  },
  {
   "cell_type": "code",
   "execution_count": 43,
   "id": "848ff051",
   "metadata": {
    "execution": {
     "iopub.execute_input": "2023-05-25T10:02:17.218146Z",
     "iopub.status.busy": "2023-05-25T10:02:17.217731Z",
     "iopub.status.idle": "2023-05-25T10:02:17.224526Z",
     "shell.execute_reply": "2023-05-25T10:02:17.223294Z"
    },
    "papermill": {
     "duration": 0.027266,
     "end_time": "2023-05-25T10:02:17.226293",
     "exception": false,
     "start_time": "2023-05-25T10:02:17.199027",
     "status": "completed"
    },
    "tags": []
   },
   "outputs": [
    {
     "data": {
      "text/plain": [
       "0.6714285714285714"
      ]
     },
     "execution_count": 43,
     "metadata": {},
     "output_type": "execute_result"
    }
   ],
   "source": [
    "# predicting values and checking accuracy\n",
    "lpred = lreg.predict(x_test_transformed)\n",
    "accuracy_score(lpred , y_test)"
   ]
  },
  {
   "cell_type": "markdown",
   "id": "9109f012",
   "metadata": {
    "papermill": {
     "duration": 0.017303,
     "end_time": "2023-05-25T10:02:17.262091",
     "exception": false,
     "start_time": "2023-05-25T10:02:17.244788",
     "status": "completed"
    },
    "tags": []
   },
   "source": [
    "# KNN"
   ]
  },
  {
   "cell_type": "code",
   "execution_count": 44,
   "id": "cc5b492d",
   "metadata": {
    "execution": {
     "iopub.execute_input": "2023-05-25T10:02:17.298386Z",
     "iopub.status.busy": "2023-05-25T10:02:17.297978Z",
     "iopub.status.idle": "2023-05-25T10:02:17.303221Z",
     "shell.execute_reply": "2023-05-25T10:02:17.301846Z"
    },
    "papermill": {
     "duration": 0.026639,
     "end_time": "2023-05-25T10:02:17.305975",
     "exception": false,
     "start_time": "2023-05-25T10:02:17.279336",
     "status": "completed"
    },
    "tags": []
   },
   "outputs": [],
   "source": [
    "#importing libraries\n",
    "from sklearn.neighbors import KNeighborsClassifier"
   ]
  },
  {
   "cell_type": "code",
   "execution_count": 45,
   "id": "6286f26e",
   "metadata": {
    "execution": {
     "iopub.execute_input": "2023-05-25T10:02:17.343898Z",
     "iopub.status.busy": "2023-05-25T10:02:17.343229Z",
     "iopub.status.idle": "2023-05-25T10:02:17.351604Z",
     "shell.execute_reply": "2023-05-25T10:02:17.350953Z"
    },
    "papermill": {
     "duration": 0.028822,
     "end_time": "2023-05-25T10:02:17.353252",
     "exception": false,
     "start_time": "2023-05-25T10:02:17.324430",
     "status": "completed"
    },
    "tags": []
   },
   "outputs": [
    {
     "data": {
      "text/html": [
       "<style>#sk-container-id-5 {color: black;background-color: white;}#sk-container-id-5 pre{padding: 0;}#sk-container-id-5 div.sk-toggleable {background-color: white;}#sk-container-id-5 label.sk-toggleable__label {cursor: pointer;display: block;width: 100%;margin-bottom: 0;padding: 0.3em;box-sizing: border-box;text-align: center;}#sk-container-id-5 label.sk-toggleable__label-arrow:before {content: \"▸\";float: left;margin-right: 0.25em;color: #696969;}#sk-container-id-5 label.sk-toggleable__label-arrow:hover:before {color: black;}#sk-container-id-5 div.sk-estimator:hover label.sk-toggleable__label-arrow:before {color: black;}#sk-container-id-5 div.sk-toggleable__content {max-height: 0;max-width: 0;overflow: hidden;text-align: left;background-color: #f0f8ff;}#sk-container-id-5 div.sk-toggleable__content pre {margin: 0.2em;color: black;border-radius: 0.25em;background-color: #f0f8ff;}#sk-container-id-5 input.sk-toggleable__control:checked~div.sk-toggleable__content {max-height: 200px;max-width: 100%;overflow: auto;}#sk-container-id-5 input.sk-toggleable__control:checked~label.sk-toggleable__label-arrow:before {content: \"▾\";}#sk-container-id-5 div.sk-estimator input.sk-toggleable__control:checked~label.sk-toggleable__label {background-color: #d4ebff;}#sk-container-id-5 div.sk-label input.sk-toggleable__control:checked~label.sk-toggleable__label {background-color: #d4ebff;}#sk-container-id-5 input.sk-hidden--visually {border: 0;clip: rect(1px 1px 1px 1px);clip: rect(1px, 1px, 1px, 1px);height: 1px;margin: -1px;overflow: hidden;padding: 0;position: absolute;width: 1px;}#sk-container-id-5 div.sk-estimator {font-family: monospace;background-color: #f0f8ff;border: 1px dotted black;border-radius: 0.25em;box-sizing: border-box;margin-bottom: 0.5em;}#sk-container-id-5 div.sk-estimator:hover {background-color: #d4ebff;}#sk-container-id-5 div.sk-parallel-item::after {content: \"\";width: 100%;border-bottom: 1px solid gray;flex-grow: 1;}#sk-container-id-5 div.sk-label:hover label.sk-toggleable__label {background-color: #d4ebff;}#sk-container-id-5 div.sk-serial::before {content: \"\";position: absolute;border-left: 1px solid gray;box-sizing: border-box;top: 0;bottom: 0;left: 50%;z-index: 0;}#sk-container-id-5 div.sk-serial {display: flex;flex-direction: column;align-items: center;background-color: white;padding-right: 0.2em;padding-left: 0.2em;position: relative;}#sk-container-id-5 div.sk-item {position: relative;z-index: 1;}#sk-container-id-5 div.sk-parallel {display: flex;align-items: stretch;justify-content: center;background-color: white;position: relative;}#sk-container-id-5 div.sk-item::before, #sk-container-id-5 div.sk-parallel-item::before {content: \"\";position: absolute;border-left: 1px solid gray;box-sizing: border-box;top: 0;bottom: 0;left: 50%;z-index: -1;}#sk-container-id-5 div.sk-parallel-item {display: flex;flex-direction: column;z-index: 1;position: relative;background-color: white;}#sk-container-id-5 div.sk-parallel-item:first-child::after {align-self: flex-end;width: 50%;}#sk-container-id-5 div.sk-parallel-item:last-child::after {align-self: flex-start;width: 50%;}#sk-container-id-5 div.sk-parallel-item:only-child::after {width: 0;}#sk-container-id-5 div.sk-dashed-wrapped {border: 1px dashed gray;margin: 0 0.4em 0.5em 0.4em;box-sizing: border-box;padding-bottom: 0.4em;background-color: white;}#sk-container-id-5 div.sk-label label {font-family: monospace;font-weight: bold;display: inline-block;line-height: 1.2em;}#sk-container-id-5 div.sk-label-container {text-align: center;}#sk-container-id-5 div.sk-container {/* jupyter's `normalize.less` sets `[hidden] { display: none; }` but bootstrap.min.css set `[hidden] { display: none !important; }` so we also need the `!important` here to be able to override the default hidden behavior on the sphinx rendered scikit-learn.org. See: https://github.com/scikit-learn/scikit-learn/issues/21755 */display: inline-block !important;position: relative;}#sk-container-id-5 div.sk-text-repr-fallback {display: none;}</style><div id=\"sk-container-id-5\" class=\"sk-top-container\"><div class=\"sk-text-repr-fallback\"><pre>KNeighborsClassifier()</pre><b>In a Jupyter environment, please rerun this cell to show the HTML representation or trust the notebook. <br />On GitHub, the HTML representation is unable to render, please try loading this page with nbviewer.org.</b></div><div class=\"sk-container\" hidden><div class=\"sk-item\"><div class=\"sk-estimator sk-toggleable\"><input class=\"sk-toggleable__control sk-hidden--visually\" id=\"sk-estimator-id-5\" type=\"checkbox\" checked><label for=\"sk-estimator-id-5\" class=\"sk-toggleable__label sk-toggleable__label-arrow\">KNeighborsClassifier</label><div class=\"sk-toggleable__content\"><pre>KNeighborsClassifier()</pre></div></div></div></div></div>"
      ],
      "text/plain": [
       "KNeighborsClassifier()"
      ]
     },
     "execution_count": 45,
     "metadata": {},
     "output_type": "execute_result"
    }
   ],
   "source": [
    "#implementing KNN\n",
    "knn = KNeighborsClassifier()\n",
    "knn.fit(x_train_transformed,y_train)"
   ]
  },
  {
   "cell_type": "code",
   "execution_count": 46,
   "id": "ff7bd79a",
   "metadata": {
    "execution": {
     "iopub.execute_input": "2023-05-25T10:02:17.391042Z",
     "iopub.status.busy": "2023-05-25T10:02:17.389840Z",
     "iopub.status.idle": "2023-05-25T10:02:17.399555Z",
     "shell.execute_reply": "2023-05-25T10:02:17.398569Z"
    },
    "papermill": {
     "duration": 0.030316,
     "end_time": "2023-05-25T10:02:17.401154",
     "exception": false,
     "start_time": "2023-05-25T10:02:17.370838",
     "status": "completed"
    },
    "tags": []
   },
   "outputs": [
    {
     "data": {
      "text/plain": [
       "0.7142857142857143"
      ]
     },
     "execution_count": 46,
     "metadata": {},
     "output_type": "execute_result"
    }
   ],
   "source": [
    "#predicting values and testing accuracy\n",
    "kpred = knn.predict(x_test_transformed)\n",
    "accuracy_score(kpred,y_test)"
   ]
  },
  {
   "cell_type": "markdown",
   "id": "07e2e110",
   "metadata": {
    "papermill": {
     "duration": 0.019132,
     "end_time": "2023-05-25T10:02:17.439024",
     "exception": false,
     "start_time": "2023-05-25T10:02:17.419892",
     "status": "completed"
    },
    "tags": []
   },
   "source": [
    "# SVM"
   ]
  },
  {
   "cell_type": "code",
   "execution_count": 47,
   "id": "e9c52732",
   "metadata": {
    "execution": {
     "iopub.execute_input": "2023-05-25T10:02:17.476752Z",
     "iopub.status.busy": "2023-05-25T10:02:17.476170Z",
     "iopub.status.idle": "2023-05-25T10:02:17.479648Z",
     "shell.execute_reply": "2023-05-25T10:02:17.479065Z"
    },
    "papermill": {
     "duration": 0.024289,
     "end_time": "2023-05-25T10:02:17.481299",
     "exception": false,
     "start_time": "2023-05-25T10:02:17.457010",
     "status": "completed"
    },
    "tags": []
   },
   "outputs": [],
   "source": [
    "# importing library\n",
    "from sklearn import svm"
   ]
  },
  {
   "cell_type": "code",
   "execution_count": 48,
   "id": "fcfdb795",
   "metadata": {
    "execution": {
     "iopub.execute_input": "2023-05-25T10:02:17.518782Z",
     "iopub.status.busy": "2023-05-25T10:02:17.518092Z",
     "iopub.status.idle": "2023-05-25T10:02:17.530088Z",
     "shell.execute_reply": "2023-05-25T10:02:17.528801Z"
    },
    "papermill": {
     "duration": 0.033194,
     "end_time": "2023-05-25T10:02:17.532560",
     "exception": false,
     "start_time": "2023-05-25T10:02:17.499366",
     "status": "completed"
    },
    "tags": []
   },
   "outputs": [
    {
     "data": {
      "text/html": [
       "<style>#sk-container-id-6 {color: black;background-color: white;}#sk-container-id-6 pre{padding: 0;}#sk-container-id-6 div.sk-toggleable {background-color: white;}#sk-container-id-6 label.sk-toggleable__label {cursor: pointer;display: block;width: 100%;margin-bottom: 0;padding: 0.3em;box-sizing: border-box;text-align: center;}#sk-container-id-6 label.sk-toggleable__label-arrow:before {content: \"▸\";float: left;margin-right: 0.25em;color: #696969;}#sk-container-id-6 label.sk-toggleable__label-arrow:hover:before {color: black;}#sk-container-id-6 div.sk-estimator:hover label.sk-toggleable__label-arrow:before {color: black;}#sk-container-id-6 div.sk-toggleable__content {max-height: 0;max-width: 0;overflow: hidden;text-align: left;background-color: #f0f8ff;}#sk-container-id-6 div.sk-toggleable__content pre {margin: 0.2em;color: black;border-radius: 0.25em;background-color: #f0f8ff;}#sk-container-id-6 input.sk-toggleable__control:checked~div.sk-toggleable__content {max-height: 200px;max-width: 100%;overflow: auto;}#sk-container-id-6 input.sk-toggleable__control:checked~label.sk-toggleable__label-arrow:before {content: \"▾\";}#sk-container-id-6 div.sk-estimator input.sk-toggleable__control:checked~label.sk-toggleable__label {background-color: #d4ebff;}#sk-container-id-6 div.sk-label input.sk-toggleable__control:checked~label.sk-toggleable__label {background-color: #d4ebff;}#sk-container-id-6 input.sk-hidden--visually {border: 0;clip: rect(1px 1px 1px 1px);clip: rect(1px, 1px, 1px, 1px);height: 1px;margin: -1px;overflow: hidden;padding: 0;position: absolute;width: 1px;}#sk-container-id-6 div.sk-estimator {font-family: monospace;background-color: #f0f8ff;border: 1px dotted black;border-radius: 0.25em;box-sizing: border-box;margin-bottom: 0.5em;}#sk-container-id-6 div.sk-estimator:hover {background-color: #d4ebff;}#sk-container-id-6 div.sk-parallel-item::after {content: \"\";width: 100%;border-bottom: 1px solid gray;flex-grow: 1;}#sk-container-id-6 div.sk-label:hover label.sk-toggleable__label {background-color: #d4ebff;}#sk-container-id-6 div.sk-serial::before {content: \"\";position: absolute;border-left: 1px solid gray;box-sizing: border-box;top: 0;bottom: 0;left: 50%;z-index: 0;}#sk-container-id-6 div.sk-serial {display: flex;flex-direction: column;align-items: center;background-color: white;padding-right: 0.2em;padding-left: 0.2em;position: relative;}#sk-container-id-6 div.sk-item {position: relative;z-index: 1;}#sk-container-id-6 div.sk-parallel {display: flex;align-items: stretch;justify-content: center;background-color: white;position: relative;}#sk-container-id-6 div.sk-item::before, #sk-container-id-6 div.sk-parallel-item::before {content: \"\";position: absolute;border-left: 1px solid gray;box-sizing: border-box;top: 0;bottom: 0;left: 50%;z-index: -1;}#sk-container-id-6 div.sk-parallel-item {display: flex;flex-direction: column;z-index: 1;position: relative;background-color: white;}#sk-container-id-6 div.sk-parallel-item:first-child::after {align-self: flex-end;width: 50%;}#sk-container-id-6 div.sk-parallel-item:last-child::after {align-self: flex-start;width: 50%;}#sk-container-id-6 div.sk-parallel-item:only-child::after {width: 0;}#sk-container-id-6 div.sk-dashed-wrapped {border: 1px dashed gray;margin: 0 0.4em 0.5em 0.4em;box-sizing: border-box;padding-bottom: 0.4em;background-color: white;}#sk-container-id-6 div.sk-label label {font-family: monospace;font-weight: bold;display: inline-block;line-height: 1.2em;}#sk-container-id-6 div.sk-label-container {text-align: center;}#sk-container-id-6 div.sk-container {/* jupyter's `normalize.less` sets `[hidden] { display: none; }` but bootstrap.min.css set `[hidden] { display: none !important; }` so we also need the `!important` here to be able to override the default hidden behavior on the sphinx rendered scikit-learn.org. See: https://github.com/scikit-learn/scikit-learn/issues/21755 */display: inline-block !important;position: relative;}#sk-container-id-6 div.sk-text-repr-fallback {display: none;}</style><div id=\"sk-container-id-6\" class=\"sk-top-container\"><div class=\"sk-text-repr-fallback\"><pre>SVC()</pre><b>In a Jupyter environment, please rerun this cell to show the HTML representation or trust the notebook. <br />On GitHub, the HTML representation is unable to render, please try loading this page with nbviewer.org.</b></div><div class=\"sk-container\" hidden><div class=\"sk-item\"><div class=\"sk-estimator sk-toggleable\"><input class=\"sk-toggleable__control sk-hidden--visually\" id=\"sk-estimator-id-6\" type=\"checkbox\" checked><label for=\"sk-estimator-id-6\" class=\"sk-toggleable__label sk-toggleable__label-arrow\">SVC</label><div class=\"sk-toggleable__content\"><pre>SVC()</pre></div></div></div></div></div>"
      ],
      "text/plain": [
       "SVC()"
      ]
     },
     "execution_count": 48,
     "metadata": {},
     "output_type": "execute_result"
    }
   ],
   "source": [
    "#implementing SVM\n",
    "sv = svm.SVC()\n",
    "sv.fit(x_train_transformed,y_train)"
   ]
  },
  {
   "cell_type": "code",
   "execution_count": 49,
   "id": "af0eb97c",
   "metadata": {
    "execution": {
     "iopub.execute_input": "2023-05-25T10:02:17.570390Z",
     "iopub.status.busy": "2023-05-25T10:02:17.569523Z",
     "iopub.status.idle": "2023-05-25T10:02:17.576874Z",
     "shell.execute_reply": "2023-05-25T10:02:17.575824Z"
    },
    "papermill": {
     "duration": 0.027984,
     "end_time": "2023-05-25T10:02:17.578598",
     "exception": false,
     "start_time": "2023-05-25T10:02:17.550614",
     "status": "completed"
    },
    "tags": []
   },
   "outputs": [
    {
     "data": {
      "text/plain": [
       "0.6714285714285714"
      ]
     },
     "execution_count": 49,
     "metadata": {},
     "output_type": "execute_result"
    }
   ],
   "source": [
    "#predicting values and testing accuracy\n",
    "spred = sv.predict(x_test_transformed)\n",
    "accuracy_score(spred,y_test)"
   ]
  },
  {
   "cell_type": "markdown",
   "id": "7091bb1f",
   "metadata": {
    "papermill": {
     "duration": 0.01776,
     "end_time": "2023-05-25T10:02:17.614410",
     "exception": false,
     "start_time": "2023-05-25T10:02:17.596650",
     "status": "completed"
    },
    "tags": []
   },
   "source": [
    "# Naive Bayes"
   ]
  },
  {
   "cell_type": "code",
   "execution_count": 50,
   "id": "9430e05e",
   "metadata": {
    "execution": {
     "iopub.execute_input": "2023-05-25T10:02:17.652617Z",
     "iopub.status.busy": "2023-05-25T10:02:17.652277Z",
     "iopub.status.idle": "2023-05-25T10:02:17.664659Z",
     "shell.execute_reply": "2023-05-25T10:02:17.663577Z"
    },
    "papermill": {
     "duration": 0.034207,
     "end_time": "2023-05-25T10:02:17.666864",
     "exception": false,
     "start_time": "2023-05-25T10:02:17.632657",
     "status": "completed"
    },
    "tags": []
   },
   "outputs": [],
   "source": [
    "#importing library\n",
    "from sklearn.naive_bayes import GaussianNB"
   ]
  },
  {
   "cell_type": "code",
   "execution_count": 51,
   "id": "cb0010db",
   "metadata": {
    "execution": {
     "iopub.execute_input": "2023-05-25T10:02:17.704523Z",
     "iopub.status.busy": "2023-05-25T10:02:17.704212Z",
     "iopub.status.idle": "2023-05-25T10:02:17.711548Z",
     "shell.execute_reply": "2023-05-25T10:02:17.710515Z"
    },
    "papermill": {
     "duration": 0.02845,
     "end_time": "2023-05-25T10:02:17.713314",
     "exception": false,
     "start_time": "2023-05-25T10:02:17.684864",
     "status": "completed"
    },
    "tags": []
   },
   "outputs": [
    {
     "data": {
      "text/html": [
       "<style>#sk-container-id-7 {color: black;background-color: white;}#sk-container-id-7 pre{padding: 0;}#sk-container-id-7 div.sk-toggleable {background-color: white;}#sk-container-id-7 label.sk-toggleable__label {cursor: pointer;display: block;width: 100%;margin-bottom: 0;padding: 0.3em;box-sizing: border-box;text-align: center;}#sk-container-id-7 label.sk-toggleable__label-arrow:before {content: \"▸\";float: left;margin-right: 0.25em;color: #696969;}#sk-container-id-7 label.sk-toggleable__label-arrow:hover:before {color: black;}#sk-container-id-7 div.sk-estimator:hover label.sk-toggleable__label-arrow:before {color: black;}#sk-container-id-7 div.sk-toggleable__content {max-height: 0;max-width: 0;overflow: hidden;text-align: left;background-color: #f0f8ff;}#sk-container-id-7 div.sk-toggleable__content pre {margin: 0.2em;color: black;border-radius: 0.25em;background-color: #f0f8ff;}#sk-container-id-7 input.sk-toggleable__control:checked~div.sk-toggleable__content {max-height: 200px;max-width: 100%;overflow: auto;}#sk-container-id-7 input.sk-toggleable__control:checked~label.sk-toggleable__label-arrow:before {content: \"▾\";}#sk-container-id-7 div.sk-estimator input.sk-toggleable__control:checked~label.sk-toggleable__label {background-color: #d4ebff;}#sk-container-id-7 div.sk-label input.sk-toggleable__control:checked~label.sk-toggleable__label {background-color: #d4ebff;}#sk-container-id-7 input.sk-hidden--visually {border: 0;clip: rect(1px 1px 1px 1px);clip: rect(1px, 1px, 1px, 1px);height: 1px;margin: -1px;overflow: hidden;padding: 0;position: absolute;width: 1px;}#sk-container-id-7 div.sk-estimator {font-family: monospace;background-color: #f0f8ff;border: 1px dotted black;border-radius: 0.25em;box-sizing: border-box;margin-bottom: 0.5em;}#sk-container-id-7 div.sk-estimator:hover {background-color: #d4ebff;}#sk-container-id-7 div.sk-parallel-item::after {content: \"\";width: 100%;border-bottom: 1px solid gray;flex-grow: 1;}#sk-container-id-7 div.sk-label:hover label.sk-toggleable__label {background-color: #d4ebff;}#sk-container-id-7 div.sk-serial::before {content: \"\";position: absolute;border-left: 1px solid gray;box-sizing: border-box;top: 0;bottom: 0;left: 50%;z-index: 0;}#sk-container-id-7 div.sk-serial {display: flex;flex-direction: column;align-items: center;background-color: white;padding-right: 0.2em;padding-left: 0.2em;position: relative;}#sk-container-id-7 div.sk-item {position: relative;z-index: 1;}#sk-container-id-7 div.sk-parallel {display: flex;align-items: stretch;justify-content: center;background-color: white;position: relative;}#sk-container-id-7 div.sk-item::before, #sk-container-id-7 div.sk-parallel-item::before {content: \"\";position: absolute;border-left: 1px solid gray;box-sizing: border-box;top: 0;bottom: 0;left: 50%;z-index: -1;}#sk-container-id-7 div.sk-parallel-item {display: flex;flex-direction: column;z-index: 1;position: relative;background-color: white;}#sk-container-id-7 div.sk-parallel-item:first-child::after {align-self: flex-end;width: 50%;}#sk-container-id-7 div.sk-parallel-item:last-child::after {align-self: flex-start;width: 50%;}#sk-container-id-7 div.sk-parallel-item:only-child::after {width: 0;}#sk-container-id-7 div.sk-dashed-wrapped {border: 1px dashed gray;margin: 0 0.4em 0.5em 0.4em;box-sizing: border-box;padding-bottom: 0.4em;background-color: white;}#sk-container-id-7 div.sk-label label {font-family: monospace;font-weight: bold;display: inline-block;line-height: 1.2em;}#sk-container-id-7 div.sk-label-container {text-align: center;}#sk-container-id-7 div.sk-container {/* jupyter's `normalize.less` sets `[hidden] { display: none; }` but bootstrap.min.css set `[hidden] { display: none !important; }` so we also need the `!important` here to be able to override the default hidden behavior on the sphinx rendered scikit-learn.org. See: https://github.com/scikit-learn/scikit-learn/issues/21755 */display: inline-block !important;position: relative;}#sk-container-id-7 div.sk-text-repr-fallback {display: none;}</style><div id=\"sk-container-id-7\" class=\"sk-top-container\"><div class=\"sk-text-repr-fallback\"><pre>GaussianNB()</pre><b>In a Jupyter environment, please rerun this cell to show the HTML representation or trust the notebook. <br />On GitHub, the HTML representation is unable to render, please try loading this page with nbviewer.org.</b></div><div class=\"sk-container\" hidden><div class=\"sk-item\"><div class=\"sk-estimator sk-toggleable\"><input class=\"sk-toggleable__control sk-hidden--visually\" id=\"sk-estimator-id-7\" type=\"checkbox\" checked><label for=\"sk-estimator-id-7\" class=\"sk-toggleable__label sk-toggleable__label-arrow\">GaussianNB</label><div class=\"sk-toggleable__content\"><pre>GaussianNB()</pre></div></div></div></div></div>"
      ],
      "text/plain": [
       "GaussianNB()"
      ]
     },
     "execution_count": 51,
     "metadata": {},
     "output_type": "execute_result"
    }
   ],
   "source": [
    "#implementing naive bayes\n",
    "nb = GaussianNB()\n",
    "nb.fit(x_train_transformed,y_train)"
   ]
  },
  {
   "cell_type": "code",
   "execution_count": 52,
   "id": "d73a29c7",
   "metadata": {
    "execution": {
     "iopub.execute_input": "2023-05-25T10:02:17.752700Z",
     "iopub.status.busy": "2023-05-25T10:02:17.752041Z",
     "iopub.status.idle": "2023-05-25T10:02:17.758925Z",
     "shell.execute_reply": "2023-05-25T10:02:17.757429Z"
    },
    "papermill": {
     "duration": 0.028688,
     "end_time": "2023-05-25T10:02:17.760942",
     "exception": false,
     "start_time": "2023-05-25T10:02:17.732254",
     "status": "completed"
    },
    "tags": []
   },
   "outputs": [
    {
     "data": {
      "text/plain": [
       "0.6714285714285714"
      ]
     },
     "execution_count": 52,
     "metadata": {},
     "output_type": "execute_result"
    }
   ],
   "source": [
    "#predicting values and testing accuracy\n",
    "npred = nb.predict(x_test_transformed)\n",
    "accuracy_score(npred,y_test)"
   ]
  },
  {
   "cell_type": "markdown",
   "id": "d08e02e0",
   "metadata": {
    "papermill": {
     "duration": 0.017977,
     "end_time": "2023-05-25T10:02:17.797378",
     "exception": false,
     "start_time": "2023-05-25T10:02:17.779401",
     "status": "completed"
    },
    "tags": []
   },
   "source": [
    "# Conclusion"
   ]
  },
  {
   "cell_type": "markdown",
   "id": "40a7d4c0",
   "metadata": {
    "papermill": {
     "duration": 0.018495,
     "end_time": "2023-05-25T10:02:17.834460",
     "exception": false,
     "start_time": "2023-05-25T10:02:17.815965",
     "status": "completed"
    },
    "tags": []
   },
   "source": [
    "#### The main goal of this notebook was to implement different types of classification techniques in a simple manner for a beginner to refer and understand. Any Feedback and upvotes are highly appreciated :)"
   ]
  },
  {
   "cell_type": "markdown",
   "id": "6624e438",
   "metadata": {
    "papermill": {
     "duration": 0.018002,
     "end_time": "2023-05-25T10:02:17.870286",
     "exception": false,
     "start_time": "2023-05-25T10:02:17.852284",
     "status": "completed"
    },
    "tags": []
   },
   "source": [
    "### Here's the accuracy of different classification models\n",
    "\n",
    "#### Decision Tree : 0.7142857142857143\n",
    "#### Random Forest : 0.7142857142857143\n",
    "#### Logistic Regression : 0.6\n",
    "#### KNN : 0.6571428571428571\n",
    "#### SVM: 0.6571428571428571\n",
    "#### Naive Bayes: 0.6285714285714286"
   ]
  }
 ],
 "metadata": {
  "kernelspec": {
   "display_name": "Python 3",
   "language": "python",
   "name": "python3"
  },
  "language_info": {
   "codemirror_mode": {
    "name": "ipython",
    "version": 3
   },
   "file_extension": ".py",
   "mimetype": "text/x-python",
   "name": "python",
   "nbconvert_exporter": "python",
   "pygments_lexer": "ipython3",
   "version": "3.10.10"
  },
  "papermill": {
   "default_parameters": {},
   "duration": 17.40203,
   "end_time": "2023-05-25T10:02:18.909338",
   "environment_variables": {},
   "exception": null,
   "input_path": "__notebook__.ipynb",
   "output_path": "__notebook__.ipynb",
   "parameters": {},
   "start_time": "2023-05-25T10:02:01.507308",
   "version": "2.4.0"
  }
 },
 "nbformat": 4,
 "nbformat_minor": 5
}
